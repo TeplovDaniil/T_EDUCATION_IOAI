{
 "cells": [
  {
   "cell_type": "code",
   "execution_count": 11,
   "metadata": {},
   "outputs": [],
   "source": [
    "import random\n",
    "from pathlib import Path\n",
    "\n",
    "import matplotlib.pyplot as plt\n",
    "import numpy as np\n",
    "import pandas as pd\n",
    "import torch\n",
    "import torch.optim as optim\n",
    "import torchvision\n",
    "import torchvision.transforms as tt\n",
    "from torchvision.io import read_image\n",
    "from sklearn.preprocessing import LabelEncoder\n",
    "\n",
    "from PIL import Image\n",
    "from sklearn.metrics import f1_score\n",
    "from sklearn.model_selection import train_test_split\n",
    "from torch import nn\n",
    "from torch.utils.data import DataLoader, Dataset\n",
    "from torchvision.models import ResNet18_Weights\n",
    "from tqdm.notebook import tqdm\n",
    "from torchvision import models as vision_models\n",
    "import timm\n",
    "from torchvision.utils import make_grid\n",
    "from torchvision.io import decode_image\n",
    "from pathlib import Path\n",
    "import torchvision.transforms.functional as F\n",
    "from torch.optim.lr_scheduler import StepLR\n",
    "\n",
    "\n",
    "# Зафиксируем сиды, чтобы обучение было воспроизводимым.\n",
    "def set_seed(seed):\n",
    "    random.seed(seed)\n",
    "    np.random.seed(seed)\n",
    "    torch.manual_seed(seed)\n",
    "\n",
    "    if torch.cuda.is_available():\n",
    "        torch.cuda.manual_seed(seed)\n",
    "        torch.cuda.manual_seed_all(seed)\n",
    "\n",
    "    torch.backends.cudnn.deterministic = True\n",
    "    torch.backends.cudnn.benchmark = False\n",
    "\n",
    "set_seed(1001)"
   ]
  },
  {
   "cell_type": "code",
   "execution_count": 12,
   "metadata": {},
   "outputs": [
    {
     "name": "stdout",
     "output_type": "stream",
     "text": [
      "Все хорошо, установлена версия с поддержкой видеокарт\n",
      "Для обучения выбран девайс cuda\n"
     ]
    }
   ],
   "source": [
    "import torch\n",
    "\n",
    "if torch.cuda.is_available():\n",
    "    print(\"Все хорошо, установлена версия с поддержкой видеокарт\")\n",
    "else:\n",
    "    print(\"Что-то не так, стоит torch с поддержкой только CPU (если у вас MacOS или так и задумано, то все нормально.\")\n",
    "device='cuda'\n",
    "device = torch.device(\"cuda\" if torch.cuda.is_available() else \"cpu\")\n",
    "print(\"Для обучения выбран девайс {}\".format(device))"
   ]
  },
  {
   "cell_type": "code",
   "execution_count": 13,
   "metadata": {},
   "outputs": [
    {
     "name": "stdout",
     "output_type": "stream",
     "text": [
      "Готово! Все изображения перемещены в journey-springfield\\dataset\\images, CSV создан по пути journey-springfield\\dataset\\labels.csv.\n"
     ]
    }
   ],
   "source": [
    "import os\n",
    "import shutil\n",
    "import pandas as pd\n",
    "\n",
    "\n",
    "source_dir = r\"journey-springfield\\train\"\n",
    "target_dir = os.path.join(os.path.dirname(source_dir), \"dataset\", \"images\")\n",
    "csv_path = os.path.join(os.path.dirname(source_dir), \"dataset\", \"labels.csv\")\n",
    "\n",
    "os.makedirs(target_dir, exist_ok=True)\n",
    "\n",
    "data = []\n",
    "\n",
    "\n",
    "for class_name in os.listdir(source_dir):\n",
    "    class_path = os.path.join(source_dir, class_name)\n",
    "\n",
    "    if os.path.isdir(class_path): \n",
    "        for img_name in os.listdir(class_path):\n",
    "            img_path = os.path.join(class_path, img_name)\n",
    "            new_img_path = os.path.join(target_dir, img_name)\n",
    "\n",
    "\n",
    "            if os.path.exists(new_img_path):\n",
    "                base, ext = os.path.splitext(img_name)\n",
    "                new_img_name = f\"{base}_{class_name}{ext}\"\n",
    "                new_img_path = os.path.join(target_dir, new_img_name)\n",
    "\n",
    "\n",
    "            shutil.move(img_path, new_img_path)\n",
    "\n",
    "\n",
    "            data.append([os.path.relpath(new_img_path, os.path.dirname(csv_path)), class_name])\n",
    "\n",
    "\n",
    "df = pd.DataFrame(data, columns=[\"image_path\", \"class\"])\n",
    "df.to_csv(csv_path, index=False)\n",
    "\n",
    "print(f\"Готово! Все изображения перемещены в {target_dir}, CSV создан по пути {csv_path}.\")\n"
   ]
  },
  {
   "cell_type": "code",
   "execution_count": 14,
   "metadata": {},
   "outputs": [
    {
     "name": "stdout",
     "output_type": "stream",
     "text": [
      "(18839, 3) (2094, 3)\n"
     ]
    }
   ],
   "source": [
    "le1 = LabelEncoder()\n",
    "data = pd.read_csv(r'D:\\data science\\IOAI_DZ\\Lesson 5, Homework\\ioai-journey-to-springfield\\journey-springfield\\dataset\\labels.csv')\n",
    "data['class_id'] = le1.fit_transform(data['class'])\n",
    "data['class_id'] = data['class_id'].astype('int64')\n",
    "train, val = train_test_split(data, test_size=0.1, random_state=1, stratify=data['class'])\n",
    "\n",
    "train = train.reset_index(drop=True)\n",
    "val = val.reset_index(drop=True)\n",
    "\n",
    "print(train.shape, val.shape)"
   ]
  },
  {
   "cell_type": "code",
   "execution_count": 15,
   "metadata": {},
   "outputs": [],
   "source": [
    "images_path = r'journey-springfield\\dataset'"
   ]
  },
  {
   "cell_type": "code",
   "execution_count": 16,
   "metadata": {},
   "outputs": [],
   "source": [
    "data['unified_class'] = data['class']"
   ]
  },
  {
   "cell_type": "code",
   "execution_count": 17,
   "metadata": {},
   "outputs": [],
   "source": [
    "train['unified_class'] = train['class']"
   ]
  },
  {
   "cell_type": "code",
   "execution_count": 18,
   "metadata": {},
   "outputs": [],
   "source": [
    "train = train.drop('class',axis = 1)"
   ]
  },
  {
   "cell_type": "code",
   "execution_count": 19,
   "metadata": {},
   "outputs": [
    {
     "data": {
      "application/vnd.microsoft.datawrangler.viewer.v0+json": {
       "columns": [
        {
         "name": "index",
         "rawType": "int64",
         "type": "integer"
        },
        {
         "name": "image_path",
         "rawType": "object",
         "type": "string"
        },
        {
         "name": "class_id",
         "rawType": "int64",
         "type": "integer"
        },
        {
         "name": "unified_class",
         "rawType": "object",
         "type": "string"
        }
       ],
       "conversionMethod": "pd.DataFrame",
       "ref": "c7ce1c42-93e2-463f-934e-b92b7caf0806",
       "rows": [
        [
         "0",
         "images\\pic_0432_lisa_simpson.jpg",
         "20",
         "lisa_simpson"
        ],
        [
         "1",
         "images\\pic_0689_chief_wiggum.jpg",
         "7",
         "chief_wiggum"
        ],
        [
         "2",
         "images\\pic_0161_apu_nahasapeemapetilon.jpg",
         "2",
         "apu_nahasapeemapetilon"
        ],
        [
         "3",
         "images\\pic_0867_marge_simpson.jpg",
         "22",
         "marge_simpson"
        ],
        [
         "4",
         "images\\pic_0891_marge_simpson.jpg",
         "22",
         "marge_simpson"
        ],
        [
         "5",
         "images\\pic_0888_marge_simpson.jpg",
         "22",
         "marge_simpson"
        ],
        [
         "6",
         "images\\pic_0258_apu_nahasapeemapetilon.jpg",
         "2",
         "apu_nahasapeemapetilon"
        ],
        [
         "7",
         "images\\pic_1143_lisa_simpson.jpg",
         "20",
         "lisa_simpson"
        ],
        [
         "8",
         "images\\pic_0158_nelson_muntz.jpg",
         "29",
         "nelson_muntz"
        ],
        [
         "9",
         "images\\pic_0610_apu_nahasapeemapetilon.jpg",
         "2",
         "apu_nahasapeemapetilon"
        ],
        [
         "10",
         "images\\pic_0393_kent_brockman.jpg",
         "16",
         "kent_brockman"
        ],
        [
         "11",
         "images\\pic_1252_homer_simpson.jpg",
         "15",
         "homer_simpson"
        ],
        [
         "12",
         "images\\pic_0650_milhouse_van_houten.jpg",
         "25",
         "milhouse_van_houten"
        ],
        [
         "13",
         "images\\pic_0157_edna_krabappel.jpg",
         "11",
         "edna_krabappel"
        ],
        [
         "14",
         "images\\pic_0066_nelson_muntz.jpg",
         "29",
         "nelson_muntz"
        ],
        [
         "15",
         "images\\pic_0057_marge_simpson.jpg",
         "22",
         "marge_simpson"
        ],
        [
         "16",
         "images\\pic_1150_ned_flanders.jpg",
         "28",
         "ned_flanders"
        ],
        [
         "17",
         "images\\pic_0668_bart_simpson.jpg",
         "4",
         "bart_simpson"
        ],
        [
         "18",
         "images\\pic_1037_principal_skinner.jpg",
         "32",
         "principal_skinner"
        ],
        [
         "19",
         "images\\pic_0272_marge_simpson.jpg",
         "22",
         "marge_simpson"
        ],
        [
         "20",
         "images\\pic_0959_chief_wiggum.jpg",
         "7",
         "chief_wiggum"
        ],
        [
         "21",
         "images\\pic_0352_homer_simpson.jpg",
         "15",
         "homer_simpson"
        ],
        [
         "22",
         "images\\pic_1144_principal_skinner.jpg",
         "32",
         "principal_skinner"
        ],
        [
         "23",
         "images\\pic_0186_lisa_simpson.jpg",
         "20",
         "lisa_simpson"
        ],
        [
         "24",
         "images\\pic_0491_krusty_the_clown.jpg",
         "17",
         "krusty_the_clown"
        ],
        [
         "25",
         "images\\pic_0631_ned_flanders.jpg",
         "28",
         "ned_flanders"
        ],
        [
         "26",
         "images\\pic_0624_marge_simpson.jpg",
         "22",
         "marge_simpson"
        ],
        [
         "27",
         "images\\pic_1352_moe_szyslak.jpg",
         "27",
         "moe_szyslak"
        ],
        [
         "28",
         "images\\pic_0020_nelson_muntz.jpg",
         "29",
         "nelson_muntz"
        ],
        [
         "29",
         "images\\pic_0074_kent_brockman.jpg",
         "16",
         "kent_brockman"
        ],
        [
         "30",
         "images\\pic_0040_chief_wiggum.jpg",
         "7",
         "chief_wiggum"
        ],
        [
         "31",
         "images\\pic_0670_ned_flanders.jpg",
         "28",
         "ned_flanders"
        ],
        [
         "32",
         "images\\pic_1409_ned_flanders.jpg",
         "28",
         "ned_flanders"
        ],
        [
         "33",
         "images\\pic_0657_ned_flanders.jpg",
         "28",
         "ned_flanders"
        ],
        [
         "34",
         "images\\pic_0684_homer_simpson.jpg",
         "15",
         "homer_simpson"
        ],
        [
         "35",
         "images\\pic_0230_comic_book_guy.jpg",
         "9",
         "comic_book_guy"
        ],
        [
         "36",
         "images\\pic_0057_bart_simpson.jpg",
         "4",
         "bart_simpson"
        ],
        [
         "37",
         "images\\pic_0938.jpg",
         "4",
         "bart_simpson"
        ],
        [
         "38",
         "images\\pic_0347_sideshow_bob.jpg",
         "37",
         "sideshow_bob"
        ],
        [
         "39",
         "images\\pic_0592_charles_montgomery_burns.jpg",
         "6",
         "charles_montgomery_burns"
        ],
        [
         "40",
         "images\\pic_1644.jpg",
         "15",
         "homer_simpson"
        ],
        [
         "41",
         "images\\pic_0378_comic_book_guy.jpg",
         "9",
         "comic_book_guy"
        ],
        [
         "42",
         "images\\pic_0754_lisa_simpson.jpg",
         "20",
         "lisa_simpson"
        ],
        [
         "43",
         "images\\pic_0556_principal_skinner.jpg",
         "32",
         "principal_skinner"
        ],
        [
         "44",
         "images\\pic_0038_kent_brockman.jpg",
         "16",
         "kent_brockman"
        ],
        [
         "45",
         "images\\pic_0074_chief_wiggum.jpg",
         "7",
         "chief_wiggum"
        ],
        [
         "46",
         "images\\pic_0161_sideshow_bob.jpg",
         "37",
         "sideshow_bob"
        ],
        [
         "47",
         "images\\pic_0694_homer_simpson.jpg",
         "15",
         "homer_simpson"
        ],
        [
         "48",
         "images\\pic_0663_lisa_simpson.jpg",
         "20",
         "lisa_simpson"
        ],
        [
         "49",
         "images\\pic_0485_krusty_the_clown.jpg",
         "17",
         "krusty_the_clown"
        ]
       ],
       "shape": {
        "columns": 3,
        "rows": 18839
       }
      },
      "text/html": [
       "<div>\n",
       "<style scoped>\n",
       "    .dataframe tbody tr th:only-of-type {\n",
       "        vertical-align: middle;\n",
       "    }\n",
       "\n",
       "    .dataframe tbody tr th {\n",
       "        vertical-align: top;\n",
       "    }\n",
       "\n",
       "    .dataframe thead th {\n",
       "        text-align: right;\n",
       "    }\n",
       "</style>\n",
       "<table border=\"1\" class=\"dataframe\">\n",
       "  <thead>\n",
       "    <tr style=\"text-align: right;\">\n",
       "      <th></th>\n",
       "      <th>image_path</th>\n",
       "      <th>class_id</th>\n",
       "      <th>unified_class</th>\n",
       "    </tr>\n",
       "  </thead>\n",
       "  <tbody>\n",
       "    <tr>\n",
       "      <th>0</th>\n",
       "      <td>images\\pic_0432_lisa_simpson.jpg</td>\n",
       "      <td>20</td>\n",
       "      <td>lisa_simpson</td>\n",
       "    </tr>\n",
       "    <tr>\n",
       "      <th>1</th>\n",
       "      <td>images\\pic_0689_chief_wiggum.jpg</td>\n",
       "      <td>7</td>\n",
       "      <td>chief_wiggum</td>\n",
       "    </tr>\n",
       "    <tr>\n",
       "      <th>2</th>\n",
       "      <td>images\\pic_0161_apu_nahasapeemapetilon.jpg</td>\n",
       "      <td>2</td>\n",
       "      <td>apu_nahasapeemapetilon</td>\n",
       "    </tr>\n",
       "    <tr>\n",
       "      <th>3</th>\n",
       "      <td>images\\pic_0867_marge_simpson.jpg</td>\n",
       "      <td>22</td>\n",
       "      <td>marge_simpson</td>\n",
       "    </tr>\n",
       "    <tr>\n",
       "      <th>4</th>\n",
       "      <td>images\\pic_0891_marge_simpson.jpg</td>\n",
       "      <td>22</td>\n",
       "      <td>marge_simpson</td>\n",
       "    </tr>\n",
       "    <tr>\n",
       "      <th>...</th>\n",
       "      <td>...</td>\n",
       "      <td>...</td>\n",
       "      <td>...</td>\n",
       "    </tr>\n",
       "    <tr>\n",
       "      <th>18834</th>\n",
       "      <td>images\\pic_0551_marge_simpson.jpg</td>\n",
       "      <td>22</td>\n",
       "      <td>marge_simpson</td>\n",
       "    </tr>\n",
       "    <tr>\n",
       "      <th>18835</th>\n",
       "      <td>images\\pic_0437_principal_skinner.jpg</td>\n",
       "      <td>32</td>\n",
       "      <td>principal_skinner</td>\n",
       "    </tr>\n",
       "    <tr>\n",
       "      <th>18836</th>\n",
       "      <td>images\\pic_0113_charles_montgomery_burns.jpg</td>\n",
       "      <td>6</td>\n",
       "      <td>charles_montgomery_burns</td>\n",
       "    </tr>\n",
       "    <tr>\n",
       "      <th>18837</th>\n",
       "      <td>images\\pic_0262_homer_simpson.jpg</td>\n",
       "      <td>15</td>\n",
       "      <td>homer_simpson</td>\n",
       "    </tr>\n",
       "    <tr>\n",
       "      <th>18838</th>\n",
       "      <td>images\\pic_0977_principal_skinner.jpg</td>\n",
       "      <td>32</td>\n",
       "      <td>principal_skinner</td>\n",
       "    </tr>\n",
       "  </tbody>\n",
       "</table>\n",
       "<p>18839 rows × 3 columns</p>\n",
       "</div>"
      ],
      "text/plain": [
       "                                         image_path  class_id  \\\n",
       "0                  images\\pic_0432_lisa_simpson.jpg        20   \n",
       "1                  images\\pic_0689_chief_wiggum.jpg         7   \n",
       "2        images\\pic_0161_apu_nahasapeemapetilon.jpg         2   \n",
       "3                 images\\pic_0867_marge_simpson.jpg        22   \n",
       "4                 images\\pic_0891_marge_simpson.jpg        22   \n",
       "...                                             ...       ...   \n",
       "18834             images\\pic_0551_marge_simpson.jpg        22   \n",
       "18835         images\\pic_0437_principal_skinner.jpg        32   \n",
       "18836  images\\pic_0113_charles_montgomery_burns.jpg         6   \n",
       "18837             images\\pic_0262_homer_simpson.jpg        15   \n",
       "18838         images\\pic_0977_principal_skinner.jpg        32   \n",
       "\n",
       "                  unified_class  \n",
       "0                  lisa_simpson  \n",
       "1                  chief_wiggum  \n",
       "2        apu_nahasapeemapetilon  \n",
       "3                 marge_simpson  \n",
       "4                 marge_simpson  \n",
       "...                         ...  \n",
       "18834             marge_simpson  \n",
       "18835         principal_skinner  \n",
       "18836  charles_montgomery_burns  \n",
       "18837             homer_simpson  \n",
       "18838         principal_skinner  \n",
       "\n",
       "[18839 rows x 3 columns]"
      ]
     },
     "execution_count": 19,
     "metadata": {},
     "output_type": "execute_result"
    }
   ],
   "source": [
    "train"
   ]
  },
  {
   "cell_type": "code",
   "execution_count": 20,
   "metadata": {},
   "outputs": [],
   "source": [
    "val['unified_class'] = val['class']"
   ]
  },
  {
   "cell_type": "code",
   "execution_count": 21,
   "metadata": {},
   "outputs": [],
   "source": [
    "val = val.drop('class',axis = 1)"
   ]
  },
  {
   "cell_type": "code",
   "execution_count": 22,
   "metadata": {},
   "outputs": [
    {
     "data": {
      "application/vnd.microsoft.datawrangler.viewer.v0+json": {
       "columns": [
        {
         "name": "index",
         "rawType": "int64",
         "type": "integer"
        },
        {
         "name": "image_path",
         "rawType": "object",
         "type": "string"
        },
        {
         "name": "class_id",
         "rawType": "int64",
         "type": "integer"
        },
        {
         "name": "unified_class",
         "rawType": "object",
         "type": "string"
        }
       ],
       "conversionMethod": "pd.DataFrame",
       "ref": "e6d84bc2-d92d-4a12-bf9e-f2eacb72c62a",
       "rows": [
        [
         "0",
         "images\\pic_0772_moe_szyslak.jpg",
         "27",
         "moe_szyslak"
        ],
        [
         "1",
         "images\\pic_0609_moe_szyslak.jpg",
         "27",
         "moe_szyslak"
        ],
        [
         "2",
         "images\\pic_0219_milhouse_van_houten.jpg",
         "25",
         "milhouse_van_houten"
        ],
        [
         "3",
         "images\\pic_0366_moe_szyslak.jpg",
         "27",
         "moe_szyslak"
        ],
        [
         "4",
         "images\\pic_0319.jpg",
         "0",
         "abraham_grampa_simpson"
        ],
        [
         "5",
         "images\\pic_0381_kent_brockman.jpg",
         "16",
         "kent_brockman"
        ],
        [
         "6",
         "images\\pic_0533_charles_montgomery_burns.jpg",
         "6",
         "charles_montgomery_burns"
        ],
        [
         "7",
         "images\\pic_0987_charles_montgomery_burns.jpg",
         "6",
         "charles_montgomery_burns"
        ],
        [
         "8",
         "images\\pic_0077_edna_krabappel.jpg",
         "11",
         "edna_krabappel"
        ],
        [
         "9",
         "images\\pic_0806_principal_skinner.jpg",
         "32",
         "principal_skinner"
        ],
        [
         "10",
         "images\\pic_0334_krusty_the_clown.jpg",
         "17",
         "krusty_the_clown"
        ],
        [
         "11",
         "images\\pic_0361_krusty_the_clown.jpg",
         "17",
         "krusty_the_clown"
        ],
        [
         "12",
         "images\\pic_1049_krusty_the_clown.jpg",
         "17",
         "krusty_the_clown"
        ],
        [
         "13",
         "images\\pic_1315_ned_flanders.jpg",
         "28",
         "ned_flanders"
        ],
        [
         "14",
         "images\\pic_0832_milhouse_van_houten.jpg",
         "25",
         "milhouse_van_houten"
        ],
        [
         "15",
         "images\\pic_0188_homer_simpson.jpg",
         "15",
         "homer_simpson"
        ],
        [
         "16",
         "images\\pic_0862_milhouse_van_houten.jpg",
         "25",
         "milhouse_van_houten"
        ],
        [
         "17",
         "images\\pic_0055_edna_krabappel.jpg",
         "11",
         "edna_krabappel"
        ],
        [
         "18",
         "images\\pic_0529_homer_simpson.jpg",
         "15",
         "homer_simpson"
        ],
        [
         "19",
         "images\\pic_0189_chief_wiggum.jpg",
         "7",
         "chief_wiggum"
        ],
        [
         "20",
         "images\\pic_1060_lisa_simpson.jpg",
         "20",
         "lisa_simpson"
        ],
        [
         "21",
         "images\\pic_0359_edna_krabappel.jpg",
         "11",
         "edna_krabappel"
        ],
        [
         "22",
         "images\\pic_0435_marge_simpson.jpg",
         "22",
         "marge_simpson"
        ],
        [
         "23",
         "images\\pic_0186_ned_flanders.jpg",
         "28",
         "ned_flanders"
        ],
        [
         "24",
         "images\\pic_0321_chief_wiggum.jpg",
         "7",
         "chief_wiggum"
        ],
        [
         "25",
         "images\\pic_0076_sideshow_bob.jpg",
         "37",
         "sideshow_bob"
        ],
        [
         "26",
         "images\\pic_0058_maggie_simpson.jpg",
         "21",
         "maggie_simpson"
        ],
        [
         "27",
         "images\\pic_0857.jpg",
         "0",
         "abraham_grampa_simpson"
        ],
        [
         "28",
         "images\\pic_0988_milhouse_van_houten.jpg",
         "25",
         "milhouse_van_houten"
        ],
        [
         "29",
         "images\\pic_1205_moe_szyslak.jpg",
         "27",
         "moe_szyslak"
        ],
        [
         "30",
         "images\\pic_0840_krusty_the_clown.jpg",
         "17",
         "krusty_the_clown"
        ],
        [
         "31",
         "images\\pic_0113_principal_skinner.jpg",
         "32",
         "principal_skinner"
        ],
        [
         "32",
         "images\\pic_0661_chief_wiggum.jpg",
         "7",
         "chief_wiggum"
        ],
        [
         "33",
         "images\\pic_0015_cletus_spuckler.jpg",
         "8",
         "cletus_spuckler"
        ],
        [
         "34",
         "images\\pic_0518_marge_simpson.jpg",
         "22",
         "marge_simpson"
        ],
        [
         "35",
         "images\\pic_0832_lisa_simpson.jpg",
         "20",
         "lisa_simpson"
        ],
        [
         "36",
         "images\\pic_0605_ned_flanders.jpg",
         "28",
         "ned_flanders"
        ],
        [
         "37",
         "images\\pic_1701.jpg",
         "15",
         "homer_simpson"
        ],
        [
         "38",
         "images\\pic_0665.jpg",
         "0",
         "abraham_grampa_simpson"
        ],
        [
         "39",
         "images\\pic_0437_apu_nahasapeemapetilon.jpg",
         "2",
         "apu_nahasapeemapetilon"
        ],
        [
         "40",
         "images\\pic_0339_sideshow_bob.jpg",
         "37",
         "sideshow_bob"
        ],
        [
         "41",
         "images\\pic_1291.jpg",
         "4",
         "bart_simpson"
        ],
        [
         "42",
         "images\\pic_0605_krusty_the_clown.jpg",
         "17",
         "krusty_the_clown"
        ],
        [
         "43",
         "images\\pic_0087_selma_bouvier.jpg",
         "36",
         "selma_bouvier"
        ],
        [
         "44",
         "images\\pic_0077_ralph_wiggum.jpg",
         "35",
         "ralph_wiggum"
        ],
        [
         "45",
         "images\\pic_0733_milhouse_van_houten.jpg",
         "25",
         "milhouse_van_houten"
        ],
        [
         "46",
         "images\\pic_1836.jpg",
         "15",
         "homer_simpson"
        ],
        [
         "47",
         "images\\pic_0367.jpg",
         "0",
         "abraham_grampa_simpson"
        ],
        [
         "48",
         "images\\pic_0380_charles_montgomery_burns.jpg",
         "6",
         "charles_montgomery_burns"
        ],
        [
         "49",
         "images\\pic_0024_maggie_simpson.jpg",
         "21",
         "maggie_simpson"
        ]
       ],
       "shape": {
        "columns": 3,
        "rows": 2094
       }
      },
      "text/html": [
       "<div>\n",
       "<style scoped>\n",
       "    .dataframe tbody tr th:only-of-type {\n",
       "        vertical-align: middle;\n",
       "    }\n",
       "\n",
       "    .dataframe tbody tr th {\n",
       "        vertical-align: top;\n",
       "    }\n",
       "\n",
       "    .dataframe thead th {\n",
       "        text-align: right;\n",
       "    }\n",
       "</style>\n",
       "<table border=\"1\" class=\"dataframe\">\n",
       "  <thead>\n",
       "    <tr style=\"text-align: right;\">\n",
       "      <th></th>\n",
       "      <th>image_path</th>\n",
       "      <th>class_id</th>\n",
       "      <th>unified_class</th>\n",
       "    </tr>\n",
       "  </thead>\n",
       "  <tbody>\n",
       "    <tr>\n",
       "      <th>0</th>\n",
       "      <td>images\\pic_0772_moe_szyslak.jpg</td>\n",
       "      <td>27</td>\n",
       "      <td>moe_szyslak</td>\n",
       "    </tr>\n",
       "    <tr>\n",
       "      <th>1</th>\n",
       "      <td>images\\pic_0609_moe_szyslak.jpg</td>\n",
       "      <td>27</td>\n",
       "      <td>moe_szyslak</td>\n",
       "    </tr>\n",
       "    <tr>\n",
       "      <th>2</th>\n",
       "      <td>images\\pic_0219_milhouse_van_houten.jpg</td>\n",
       "      <td>25</td>\n",
       "      <td>milhouse_van_houten</td>\n",
       "    </tr>\n",
       "    <tr>\n",
       "      <th>3</th>\n",
       "      <td>images\\pic_0366_moe_szyslak.jpg</td>\n",
       "      <td>27</td>\n",
       "      <td>moe_szyslak</td>\n",
       "    </tr>\n",
       "    <tr>\n",
       "      <th>4</th>\n",
       "      <td>images\\pic_0319.jpg</td>\n",
       "      <td>0</td>\n",
       "      <td>abraham_grampa_simpson</td>\n",
       "    </tr>\n",
       "    <tr>\n",
       "      <th>...</th>\n",
       "      <td>...</td>\n",
       "      <td>...</td>\n",
       "      <td>...</td>\n",
       "    </tr>\n",
       "    <tr>\n",
       "      <th>2089</th>\n",
       "      <td>images\\pic_0398_bart_simpson.jpg</td>\n",
       "      <td>4</td>\n",
       "      <td>bart_simpson</td>\n",
       "    </tr>\n",
       "    <tr>\n",
       "      <th>2090</th>\n",
       "      <td>images\\pic_0044_carl_carlson.jpg</td>\n",
       "      <td>5</td>\n",
       "      <td>carl_carlson</td>\n",
       "    </tr>\n",
       "    <tr>\n",
       "      <th>2091</th>\n",
       "      <td>images\\pic_0230_kent_brockman.jpg</td>\n",
       "      <td>16</td>\n",
       "      <td>kent_brockman</td>\n",
       "    </tr>\n",
       "    <tr>\n",
       "      <th>2092</th>\n",
       "      <td>images\\pic_0474_lisa_simpson.jpg</td>\n",
       "      <td>20</td>\n",
       "      <td>lisa_simpson</td>\n",
       "    </tr>\n",
       "    <tr>\n",
       "      <th>2093</th>\n",
       "      <td>images\\pic_0300_comic_book_guy.jpg</td>\n",
       "      <td>9</td>\n",
       "      <td>comic_book_guy</td>\n",
       "    </tr>\n",
       "  </tbody>\n",
       "</table>\n",
       "<p>2094 rows × 3 columns</p>\n",
       "</div>"
      ],
      "text/plain": [
       "                                   image_path  class_id  \\\n",
       "0             images\\pic_0772_moe_szyslak.jpg        27   \n",
       "1             images\\pic_0609_moe_szyslak.jpg        27   \n",
       "2     images\\pic_0219_milhouse_van_houten.jpg        25   \n",
       "3             images\\pic_0366_moe_szyslak.jpg        27   \n",
       "4                         images\\pic_0319.jpg         0   \n",
       "...                                       ...       ...   \n",
       "2089         images\\pic_0398_bart_simpson.jpg         4   \n",
       "2090         images\\pic_0044_carl_carlson.jpg         5   \n",
       "2091        images\\pic_0230_kent_brockman.jpg        16   \n",
       "2092         images\\pic_0474_lisa_simpson.jpg        20   \n",
       "2093       images\\pic_0300_comic_book_guy.jpg         9   \n",
       "\n",
       "               unified_class  \n",
       "0                moe_szyslak  \n",
       "1                moe_szyslak  \n",
       "2        milhouse_van_houten  \n",
       "3                moe_szyslak  \n",
       "4     abraham_grampa_simpson  \n",
       "...                      ...  \n",
       "2089            bart_simpson  \n",
       "2090            carl_carlson  \n",
       "2091           kent_brockman  \n",
       "2092            lisa_simpson  \n",
       "2093          comic_book_guy  \n",
       "\n",
       "[2094 rows x 3 columns]"
      ]
     },
     "execution_count": 22,
     "metadata": {},
     "output_type": "execute_result"
    }
   ],
   "source": [
    "val"
   ]
  },
  {
   "cell_type": "code",
   "execution_count": 23,
   "metadata": {},
   "outputs": [],
   "source": [
    "class EfficientNet(nn.Module):\n",
    "    def __init__(self, num_classes: int):\n",
    "        super().__init__()\n",
    "        self.model = vision_models.efficientnet_b1(vision_models.EfficientNet_B1_Weights.DEFAULT)\n",
    "        self.model.classifier[1] = torch.nn.Linear(self.model.classifier[1].in_features, num_classes)\n",
    "\n",
    "    def forward(self, batch):\n",
    "        inputs, _ = batch\n",
    "        return self.model(inputs)"
   ]
  },
  {
   "cell_type": "code",
   "execution_count": 24,
   "metadata": {},
   "outputs": [],
   "source": [
    "class SimpDataset(Dataset):\n",
    "    def __init__(self, dataframe: pd.DataFrame, path_to_images: Path, transforms: tt.Compose) -> None:\n",
    "        self.df = dataframe\n",
    "        self.path_to_images = path_to_images\n",
    "        self.transforms = transforms\n",
    "\n",
    "    def __len__(self):\n",
    "        return len(self.df)\n",
    "\n",
    "    def __getitem__(self, idx):\n",
    "        row = self.df.iloc[idx]\n",
    "        # print(row)\n",
    "        image = Image.open(self.path_to_images + '\\\\' + row[\"image_path\"]).convert('RGB')\n",
    "        # print(image)\n",
    "        if self.transforms is not None:\n",
    "            image = self.transforms(image)\n",
    "        return image, row[\"class_id\"]"
   ]
  },
  {
   "cell_type": "code",
   "execution_count": 25,
   "metadata": {},
   "outputs": [],
   "source": [
    "def show(imgs):\n",
    "    if not isinstance(imgs, list):\n",
    "        imgs = [imgs]\n",
    "    fig, axs = plt.subplots(ncols=len(imgs), squeeze=False)\n",
    "    for i, img in enumerate(imgs):\n",
    "        img = img.detach()\n",
    "        img = F.to_pil_image(img)\n",
    "        axs[0, i].imshow(np.asarray(img))\n",
    "        axs[0, i].set(xticklabels=[], yticklabels=[], xticks=[], yticks=[])"
   ]
  },
  {
   "cell_type": "code",
   "execution_count": 26,
   "metadata": {},
   "outputs": [],
   "source": [
    "idx = 1\n",
    "img = read_image(images_path +'\\\\'+ data.iloc[idx][\"image_path\"])"
   ]
  },
  {
   "cell_type": "code",
   "execution_count": 29,
   "metadata": {},
   "outputs": [],
   "source": [
    "train_transform = tt.Compose([\n",
    "    # tt.RandomGrayscale(p=0.5),\n",
    "    tt.RandomHorizontalFlip(),\n",
    "    tt.RandomCrop(224),\n",
    "    tt.RandomRotation((-5, 5)),\n",
    "    tt.Resize((int(244 * 1.25), int(244 * 1.25))),\n",
    "    tt.ToTensor(),\n",
    "    tt.Normalize(mean=[0.485, 0.456, 0.406], std=[0.229, 0.224, 0.225]),\n",
    "])\n",
    "\n",
    "val_transform = tt.Compose([\n",
    "    tt.RandomHorizontalFlip(),\n",
    "    tt.RandomCrop(224),\n",
    "    tt.RandomRotation((-5, 5)),\n",
    "    tt.Resize((int(244 * 1.25), int(244 * 1.25))),\n",
    "    tt.ToTensor(),\n",
    "    tt.Normalize(mean=[0.485, 0.456, 0.406], std=[0.229, 0.224, 0.225]),\n",
    "])\n",
    "\n",
    "train_dataset = SimpDataset(train, images_path, transforms=train_transform)\n",
    "val_dataset = SimpDataset(val, images_path, transforms=val_transform)\n",
    "\n",
    "\n",
    "train_dataloader = DataLoader(train_dataset, batch_size=64, num_workers=0, shuffle=True)\n",
    "valid_dataloader = DataLoader(val_dataset, batch_size=64, num_workers=0, shuffle=False)\n",
    "train_dataloader = DataLoader(train_dataset, batch_size=64,  shuffle=True)\n",
    "valid_dataloader = DataLoader(val_dataset, batch_size=128, shuffle=False)"
   ]
  },
  {
   "cell_type": "code",
   "execution_count": 30,
   "metadata": {},
   "outputs": [
    {
     "data": {
      "text/plain": [
       "tensor([ 6,  0, 20, 28,  5, 27, 15, 32, 32, 15,  5, 16, 17,  4, 32,  6,  4,  9,\n",
       "        22, 25, 20,  9, 20,  2, 29, 25,  9, 28,  6,  6,  0, 27, 15, 35, 27, 28,\n",
       "        32,  6, 20,  6, 28,  6, 17,  4, 27, 29, 25, 26,  5, 20,  4, 25, 15, 25,\n",
       "         6, 20,  4, 17,  7, 20, 28, 15, 32,  4])"
      ]
     },
     "execution_count": 30,
     "metadata": {},
     "output_type": "execute_result"
    }
   ],
   "source": [
    "next(iter(train_dataloader))[1]"
   ]
  },
  {
   "cell_type": "code",
   "execution_count": 31,
   "metadata": {},
   "outputs": [],
   "source": [
    "torch.cuda.empty_cache()"
   ]
  },
  {
   "cell_type": "code",
   "execution_count": 32,
   "metadata": {},
   "outputs": [
    {
     "name": "stderr",
     "output_type": "stream",
     "text": [
      "d:\\anaconda\\Lib\\site-packages\\torchvision\\models\\_utils.py:135: UserWarning: Using 'weights' as positional parameter(s) is deprecated since 0.13 and may be removed in the future. Please use keyword parameter(s) instead.\n",
      "  warnings.warn(\n"
     ]
    },
    {
     "data": {
      "application/vnd.jupyter.widget-view+json": {
       "model_id": "462eb9d830a44d62af6cf2888b8ac447",
       "version_major": 2,
       "version_minor": 0
      },
      "text/plain": [
       "  0%|          | 0/295 [00:00<?, ?it/s]"
      ]
     },
     "metadata": {},
     "output_type": "display_data"
    },
    {
     "data": {
      "application/vnd.jupyter.widget-view+json": {
       "model_id": "753aa1fc9c374c9996ce269d39fcb0a1",
       "version_major": 2,
       "version_minor": 0
      },
      "text/plain": [
       "  0%|          | 0/17 [00:00<?, ?it/s]"
      ]
     },
     "metadata": {},
     "output_type": "display_data"
    },
    {
     "name": "stdout",
     "output_type": "stream",
     "text": [
      "New best model saved with F1: 0.4957\n",
      "Epoch [1/50], Val Loss: 0.6631, Val F1: 0.4957\n"
     ]
    },
    {
     "data": {
      "application/vnd.jupyter.widget-view+json": {
       "model_id": "1c1fdeeb1d884931aced286087f4e834",
       "version_major": 2,
       "version_minor": 0
      },
      "text/plain": [
       "  0%|          | 0/295 [00:00<?, ?it/s]"
      ]
     },
     "metadata": {},
     "output_type": "display_data"
    },
    {
     "data": {
      "application/vnd.jupyter.widget-view+json": {
       "model_id": "011e1ddb33e74f6ead45fcf2fbb34b50",
       "version_major": 2,
       "version_minor": 0
      },
      "text/plain": [
       "  0%|          | 0/17 [00:00<?, ?it/s]"
      ]
     },
     "metadata": {},
     "output_type": "display_data"
    },
    {
     "name": "stdout",
     "output_type": "stream",
     "text": [
      "New best model saved with F1: 0.6491\n",
      "Epoch [2/50], Val Loss: 0.4568, Val F1: 0.6491\n"
     ]
    },
    {
     "data": {
      "application/vnd.jupyter.widget-view+json": {
       "model_id": "c4200bda63a6442dbc4c5ff44065fd5d",
       "version_major": 2,
       "version_minor": 0
      },
      "text/plain": [
       "  0%|          | 0/295 [00:00<?, ?it/s]"
      ]
     },
     "metadata": {},
     "output_type": "display_data"
    },
    {
     "data": {
      "application/vnd.jupyter.widget-view+json": {
       "model_id": "3cb3d347be634910b71403efb2b4639e",
       "version_major": 2,
       "version_minor": 0
      },
      "text/plain": [
       "  0%|          | 0/17 [00:00<?, ?it/s]"
      ]
     },
     "metadata": {},
     "output_type": "display_data"
    },
    {
     "name": "stdout",
     "output_type": "stream",
     "text": [
      "New best model saved with F1: 0.7064\n",
      "Epoch [3/50], Val Loss: 0.4282, Val F1: 0.7064\n"
     ]
    },
    {
     "data": {
      "application/vnd.jupyter.widget-view+json": {
       "model_id": "3846ecfacc5545d9bf4773be23d9de2d",
       "version_major": 2,
       "version_minor": 0
      },
      "text/plain": [
       "  0%|          | 0/295 [00:00<?, ?it/s]"
      ]
     },
     "metadata": {},
     "output_type": "display_data"
    },
    {
     "data": {
      "application/vnd.jupyter.widget-view+json": {
       "model_id": "949faf09e4664b5faf589ba6cd756016",
       "version_major": 2,
       "version_minor": 0
      },
      "text/plain": [
       "  0%|          | 0/17 [00:00<?, ?it/s]"
      ]
     },
     "metadata": {},
     "output_type": "display_data"
    },
    {
     "name": "stdout",
     "output_type": "stream",
     "text": [
      "New best model saved with F1: 0.7773\n",
      "Epoch [4/50], Val Loss: 0.3843, Val F1: 0.7773\n"
     ]
    },
    {
     "data": {
      "application/vnd.jupyter.widget-view+json": {
       "model_id": "128afa20b7f0437389639e01ba334cf6",
       "version_major": 2,
       "version_minor": 0
      },
      "text/plain": [
       "  0%|          | 0/295 [00:00<?, ?it/s]"
      ]
     },
     "metadata": {},
     "output_type": "display_data"
    },
    {
     "data": {
      "application/vnd.jupyter.widget-view+json": {
       "model_id": "be67b917af3b4a989453d857d6512901",
       "version_major": 2,
       "version_minor": 0
      },
      "text/plain": [
       "  0%|          | 0/17 [00:00<?, ?it/s]"
      ]
     },
     "metadata": {},
     "output_type": "display_data"
    },
    {
     "name": "stdout",
     "output_type": "stream",
     "text": [
      "Epoch [5/50], Val Loss: 0.4036, Val F1: 0.7734\n"
     ]
    },
    {
     "data": {
      "application/vnd.jupyter.widget-view+json": {
       "model_id": "96df226cc2c34a42acf93edd1280de9a",
       "version_major": 2,
       "version_minor": 0
      },
      "text/plain": [
       "  0%|          | 0/295 [00:00<?, ?it/s]"
      ]
     },
     "metadata": {},
     "output_type": "display_data"
    },
    {
     "data": {
      "application/vnd.jupyter.widget-view+json": {
       "model_id": "b2e53bd7667b4d3ca2b12ff24418753d",
       "version_major": 2,
       "version_minor": 0
      },
      "text/plain": [
       "  0%|          | 0/17 [00:00<?, ?it/s]"
      ]
     },
     "metadata": {},
     "output_type": "display_data"
    },
    {
     "name": "stdout",
     "output_type": "stream",
     "text": [
      "New best model saved with F1: 0.8137\n",
      "Epoch [6/50], Val Loss: 0.3056, Val F1: 0.8137\n"
     ]
    },
    {
     "data": {
      "application/vnd.jupyter.widget-view+json": {
       "model_id": "eadf6ef11fea49cea6cc81e1de8a74f6",
       "version_major": 2,
       "version_minor": 0
      },
      "text/plain": [
       "  0%|          | 0/295 [00:00<?, ?it/s]"
      ]
     },
     "metadata": {},
     "output_type": "display_data"
    },
    {
     "data": {
      "application/vnd.jupyter.widget-view+json": {
       "model_id": "75263113b62f4bd6bfb467bae016ae28",
       "version_major": 2,
       "version_minor": 0
      },
      "text/plain": [
       "  0%|          | 0/17 [00:00<?, ?it/s]"
      ]
     },
     "metadata": {},
     "output_type": "display_data"
    },
    {
     "name": "stdout",
     "output_type": "stream",
     "text": [
      "New best model saved with F1: 0.8185\n",
      "Epoch [7/50], Val Loss: 0.3436, Val F1: 0.8185\n"
     ]
    },
    {
     "data": {
      "application/vnd.jupyter.widget-view+json": {
       "model_id": "93969a860e3445848fe3ab4e04422ba9",
       "version_major": 2,
       "version_minor": 0
      },
      "text/plain": [
       "  0%|          | 0/295 [00:00<?, ?it/s]"
      ]
     },
     "metadata": {},
     "output_type": "display_data"
    },
    {
     "data": {
      "application/vnd.jupyter.widget-view+json": {
       "model_id": "b6c293531b384045b667f9e17b74636d",
       "version_major": 2,
       "version_minor": 0
      },
      "text/plain": [
       "  0%|          | 0/17 [00:00<?, ?it/s]"
      ]
     },
     "metadata": {},
     "output_type": "display_data"
    },
    {
     "name": "stdout",
     "output_type": "stream",
     "text": [
      "New best model saved with F1: 0.8416\n",
      "Epoch [8/50], Val Loss: 0.3042, Val F1: 0.8416\n"
     ]
    },
    {
     "data": {
      "application/vnd.jupyter.widget-view+json": {
       "model_id": "1ca5f0e227804ef9823a0183ebc742cf",
       "version_major": 2,
       "version_minor": 0
      },
      "text/plain": [
       "  0%|          | 0/295 [00:00<?, ?it/s]"
      ]
     },
     "metadata": {},
     "output_type": "display_data"
    },
    {
     "data": {
      "application/vnd.jupyter.widget-view+json": {
       "model_id": "7153219c62424c8b94dfa257285d6124",
       "version_major": 2,
       "version_minor": 0
      },
      "text/plain": [
       "  0%|          | 0/17 [00:00<?, ?it/s]"
      ]
     },
     "metadata": {},
     "output_type": "display_data"
    },
    {
     "name": "stdout",
     "output_type": "stream",
     "text": [
      "Epoch [9/50], Val Loss: 0.3153, Val F1: 0.8151\n"
     ]
    },
    {
     "data": {
      "application/vnd.jupyter.widget-view+json": {
       "model_id": "c140fe633a6949358113e410ca334256",
       "version_major": 2,
       "version_minor": 0
      },
      "text/plain": [
       "  0%|          | 0/295 [00:00<?, ?it/s]"
      ]
     },
     "metadata": {},
     "output_type": "display_data"
    },
    {
     "data": {
      "application/vnd.jupyter.widget-view+json": {
       "model_id": "4043bb4f9ad743cf8860753925319e75",
       "version_major": 2,
       "version_minor": 0
      },
      "text/plain": [
       "  0%|          | 0/17 [00:00<?, ?it/s]"
      ]
     },
     "metadata": {},
     "output_type": "display_data"
    },
    {
     "name": "stdout",
     "output_type": "stream",
     "text": [
      "Epoch [10/50], Val Loss: 0.3282, Val F1: 0.7935\n"
     ]
    },
    {
     "data": {
      "application/vnd.jupyter.widget-view+json": {
       "model_id": "004d47f3a65848ddb510ea1d20afff99",
       "version_major": 2,
       "version_minor": 0
      },
      "text/plain": [
       "  0%|          | 0/295 [00:00<?, ?it/s]"
      ]
     },
     "metadata": {},
     "output_type": "display_data"
    },
    {
     "data": {
      "application/vnd.jupyter.widget-view+json": {
       "model_id": "4cb53a2f3ac94a6a8977457024a5f7ff",
       "version_major": 2,
       "version_minor": 0
      },
      "text/plain": [
       "  0%|          | 0/17 [00:00<?, ?it/s]"
      ]
     },
     "metadata": {},
     "output_type": "display_data"
    },
    {
     "name": "stdout",
     "output_type": "stream",
     "text": [
      "Epoch [11/50], Val Loss: 0.3485, Val F1: 0.7867\n"
     ]
    },
    {
     "data": {
      "application/vnd.jupyter.widget-view+json": {
       "model_id": "7b782b455a824f60a71d7b95dc843e69",
       "version_major": 2,
       "version_minor": 0
      },
      "text/plain": [
       "  0%|          | 0/295 [00:00<?, ?it/s]"
      ]
     },
     "metadata": {},
     "output_type": "display_data"
    },
    {
     "data": {
      "application/vnd.jupyter.widget-view+json": {
       "model_id": "67d29efe6e7043b3a51668183e6a8406",
       "version_major": 2,
       "version_minor": 0
      },
      "text/plain": [
       "  0%|          | 0/17 [00:00<?, ?it/s]"
      ]
     },
     "metadata": {},
     "output_type": "display_data"
    },
    {
     "name": "stdout",
     "output_type": "stream",
     "text": [
      "Epoch [12/50], Val Loss: 0.3202, Val F1: 0.8046\n"
     ]
    },
    {
     "data": {
      "application/vnd.jupyter.widget-view+json": {
       "model_id": "f6c104624f48488cae540bd55e61a33c",
       "version_major": 2,
       "version_minor": 0
      },
      "text/plain": [
       "  0%|          | 0/295 [00:00<?, ?it/s]"
      ]
     },
     "metadata": {},
     "output_type": "display_data"
    },
    {
     "data": {
      "application/vnd.jupyter.widget-view+json": {
       "model_id": "028a8c845b044292bd0a4caf40dbf628",
       "version_major": 2,
       "version_minor": 0
      },
      "text/plain": [
       "  0%|          | 0/17 [00:00<?, ?it/s]"
      ]
     },
     "metadata": {},
     "output_type": "display_data"
    },
    {
     "name": "stdout",
     "output_type": "stream",
     "text": [
      "Epoch [13/50], Val Loss: 0.3026, Val F1: 0.8186\n"
     ]
    },
    {
     "data": {
      "application/vnd.jupyter.widget-view+json": {
       "model_id": "038c4180cc184b7195f141b53dfb67a2",
       "version_major": 2,
       "version_minor": 0
      },
      "text/plain": [
       "  0%|          | 0/295 [00:00<?, ?it/s]"
      ]
     },
     "metadata": {},
     "output_type": "display_data"
    },
    {
     "data": {
      "application/vnd.jupyter.widget-view+json": {
       "model_id": "aa2869e27f4a459b91650bb02aa2db81",
       "version_major": 2,
       "version_minor": 0
      },
      "text/plain": [
       "  0%|          | 0/17 [00:00<?, ?it/s]"
      ]
     },
     "metadata": {},
     "output_type": "display_data"
    },
    {
     "name": "stdout",
     "output_type": "stream",
     "text": [
      "Epoch [14/50], Val Loss: 0.3267, Val F1: 0.8357\n"
     ]
    },
    {
     "data": {
      "application/vnd.jupyter.widget-view+json": {
       "model_id": "06b451244fd343b5981281158687129c",
       "version_major": 2,
       "version_minor": 0
      },
      "text/plain": [
       "  0%|          | 0/295 [00:00<?, ?it/s]"
      ]
     },
     "metadata": {},
     "output_type": "display_data"
    },
    {
     "data": {
      "application/vnd.jupyter.widget-view+json": {
       "model_id": "1ea194eed9c54ac08c04d65b579a0ccd",
       "version_major": 2,
       "version_minor": 0
      },
      "text/plain": [
       "  0%|          | 0/17 [00:00<?, ?it/s]"
      ]
     },
     "metadata": {},
     "output_type": "display_data"
    },
    {
     "name": "stdout",
     "output_type": "stream",
     "text": [
      "Epoch [15/50], Val Loss: 0.3495, Val F1: 0.8039\n"
     ]
    },
    {
     "data": {
      "application/vnd.jupyter.widget-view+json": {
       "model_id": "870f609341454ff5aea60ba8b683c52d",
       "version_major": 2,
       "version_minor": 0
      },
      "text/plain": [
       "  0%|          | 0/295 [00:00<?, ?it/s]"
      ]
     },
     "metadata": {},
     "output_type": "display_data"
    },
    {
     "data": {
      "application/vnd.jupyter.widget-view+json": {
       "model_id": "475fea3ca23045a5ab13d1bb004a0140",
       "version_major": 2,
       "version_minor": 0
      },
      "text/plain": [
       "  0%|          | 0/17 [00:00<?, ?it/s]"
      ]
     },
     "metadata": {},
     "output_type": "display_data"
    },
    {
     "name": "stdout",
     "output_type": "stream",
     "text": [
      "New best model saved with F1: 0.8422\n",
      "Epoch [16/50], Val Loss: 0.2941, Val F1: 0.8422\n"
     ]
    },
    {
     "data": {
      "application/vnd.jupyter.widget-view+json": {
       "model_id": "92df2e85594143919cb3a5a983dccc31",
       "version_major": 2,
       "version_minor": 0
      },
      "text/plain": [
       "  0%|          | 0/295 [00:00<?, ?it/s]"
      ]
     },
     "metadata": {},
     "output_type": "display_data"
    },
    {
     "data": {
      "application/vnd.jupyter.widget-view+json": {
       "model_id": "fc94afc77e0745468ae900862fb4a71a",
       "version_major": 2,
       "version_minor": 0
      },
      "text/plain": [
       "  0%|          | 0/17 [00:00<?, ?it/s]"
      ]
     },
     "metadata": {},
     "output_type": "display_data"
    },
    {
     "name": "stdout",
     "output_type": "stream",
     "text": [
      "Epoch [17/50], Val Loss: 0.3252, Val F1: 0.8234\n"
     ]
    },
    {
     "data": {
      "application/vnd.jupyter.widget-view+json": {
       "model_id": "9b02581fcf684173b8fc5a13e1281e20",
       "version_major": 2,
       "version_minor": 0
      },
      "text/plain": [
       "  0%|          | 0/295 [00:00<?, ?it/s]"
      ]
     },
     "metadata": {},
     "output_type": "display_data"
    },
    {
     "data": {
      "application/vnd.jupyter.widget-view+json": {
       "model_id": "1a949a9164df4edf8d48a02dac8e9e59",
       "version_major": 2,
       "version_minor": 0
      },
      "text/plain": [
       "  0%|          | 0/17 [00:00<?, ?it/s]"
      ]
     },
     "metadata": {},
     "output_type": "display_data"
    },
    {
     "name": "stdout",
     "output_type": "stream",
     "text": [
      "Epoch [18/50], Val Loss: 0.3150, Val F1: 0.8230\n"
     ]
    },
    {
     "data": {
      "application/vnd.jupyter.widget-view+json": {
       "model_id": "79b2f72640eb4266aeed9919f15c7ebd",
       "version_major": 2,
       "version_minor": 0
      },
      "text/plain": [
       "  0%|          | 0/295 [00:00<?, ?it/s]"
      ]
     },
     "metadata": {},
     "output_type": "display_data"
    },
    {
     "data": {
      "application/vnd.jupyter.widget-view+json": {
       "model_id": "9c7f902a3f354ac3bb572682ac6a425d",
       "version_major": 2,
       "version_minor": 0
      },
      "text/plain": [
       "  0%|          | 0/17 [00:00<?, ?it/s]"
      ]
     },
     "metadata": {},
     "output_type": "display_data"
    },
    {
     "name": "stdout",
     "output_type": "stream",
     "text": [
      "New best model saved with F1: 0.8527\n",
      "Epoch [19/50], Val Loss: 0.3026, Val F1: 0.8527\n"
     ]
    },
    {
     "data": {
      "application/vnd.jupyter.widget-view+json": {
       "model_id": "64d1d8b4e03544dcad5f9e398c6f6cc4",
       "version_major": 2,
       "version_minor": 0
      },
      "text/plain": [
       "  0%|          | 0/295 [00:00<?, ?it/s]"
      ]
     },
     "metadata": {},
     "output_type": "display_data"
    },
    {
     "data": {
      "application/vnd.jupyter.widget-view+json": {
       "model_id": "eb090d89953e40bab16dae08c5d5c819",
       "version_major": 2,
       "version_minor": 0
      },
      "text/plain": [
       "  0%|          | 0/17 [00:00<?, ?it/s]"
      ]
     },
     "metadata": {},
     "output_type": "display_data"
    },
    {
     "name": "stdout",
     "output_type": "stream",
     "text": [
      "Epoch [20/50], Val Loss: 0.3122, Val F1: 0.8335\n"
     ]
    },
    {
     "data": {
      "application/vnd.jupyter.widget-view+json": {
       "model_id": "93fcd7066dad4e30a4c086c1feb39dae",
       "version_major": 2,
       "version_minor": 0
      },
      "text/plain": [
       "  0%|          | 0/295 [00:00<?, ?it/s]"
      ]
     },
     "metadata": {},
     "output_type": "display_data"
    },
    {
     "data": {
      "application/vnd.jupyter.widget-view+json": {
       "model_id": "e985cd8f8f3f4926ad0ef3d381667d5e",
       "version_major": 2,
       "version_minor": 0
      },
      "text/plain": [
       "  0%|          | 0/17 [00:00<?, ?it/s]"
      ]
     },
     "metadata": {},
     "output_type": "display_data"
    },
    {
     "name": "stdout",
     "output_type": "stream",
     "text": [
      "Epoch [21/50], Val Loss: 0.3010, Val F1: 0.8261\n"
     ]
    },
    {
     "data": {
      "application/vnd.jupyter.widget-view+json": {
       "model_id": "a1f1544d223f4f529f2e52bb09fdb1e7",
       "version_major": 2,
       "version_minor": 0
      },
      "text/plain": [
       "  0%|          | 0/295 [00:00<?, ?it/s]"
      ]
     },
     "metadata": {},
     "output_type": "display_data"
    },
    {
     "data": {
      "application/vnd.jupyter.widget-view+json": {
       "model_id": "af01fb8f32524c268b99ec01b95fb522",
       "version_major": 2,
       "version_minor": 0
      },
      "text/plain": [
       "  0%|          | 0/17 [00:00<?, ?it/s]"
      ]
     },
     "metadata": {},
     "output_type": "display_data"
    },
    {
     "name": "stdout",
     "output_type": "stream",
     "text": [
      "Epoch [22/50], Val Loss: 0.3435, Val F1: 0.8085\n"
     ]
    },
    {
     "data": {
      "application/vnd.jupyter.widget-view+json": {
       "model_id": "133ebc4d6fd347dc9b99d76c5ee5ebcd",
       "version_major": 2,
       "version_minor": 0
      },
      "text/plain": [
       "  0%|          | 0/295 [00:00<?, ?it/s]"
      ]
     },
     "metadata": {},
     "output_type": "display_data"
    },
    {
     "data": {
      "application/vnd.jupyter.widget-view+json": {
       "model_id": "6c5793a88be548ab9475c1248ae576eb",
       "version_major": 2,
       "version_minor": 0
      },
      "text/plain": [
       "  0%|          | 0/17 [00:00<?, ?it/s]"
      ]
     },
     "metadata": {},
     "output_type": "display_data"
    },
    {
     "ename": "KeyboardInterrupt",
     "evalue": "",
     "output_type": "error",
     "traceback": [
      "\u001b[1;31m---------------------------------------------------------------------------\u001b[0m",
      "\u001b[1;31mKeyboardInterrupt\u001b[0m                         Traceback (most recent call last)",
      "Cell \u001b[1;32mIn[32], line 71\u001b[0m\n\u001b[0;32m     68\u001b[0m outputs \u001b[38;5;241m=\u001b[39m model((inputs, labels))\n\u001b[0;32m     69\u001b[0m loss \u001b[38;5;241m=\u001b[39m criterion(outputs, labels)\n\u001b[1;32m---> 71\u001b[0m val_running_loss \u001b[38;5;241m+\u001b[39m\u001b[38;5;241m=\u001b[39m \u001b[43mloss\u001b[49m\u001b[38;5;241;43m.\u001b[39;49m\u001b[43mitem\u001b[49m\u001b[43m(\u001b[49m\u001b[43m)\u001b[49m\n\u001b[0;32m     73\u001b[0m preds \u001b[38;5;241m=\u001b[39m torch\u001b[38;5;241m.\u001b[39margmax(outputs, dim\u001b[38;5;241m=\u001b[39m\u001b[38;5;241m1\u001b[39m)\n\u001b[0;32m     74\u001b[0m val_true\u001b[38;5;241m.\u001b[39mextend(labels\u001b[38;5;241m.\u001b[39mcpu()\u001b[38;5;241m.\u001b[39mnumpy())\n",
      "\u001b[1;31mKeyboardInterrupt\u001b[0m: "
     ]
    }
   ],
   "source": [
    "# Напишем код для обучения нашей нейронной сети:\n",
    "# model = ResNet18(num_classes=data[\"unified_class\"].nunique()).to(device)\n",
    "model = EfficientNet(num_classes=data[\"unified_class\"].nunique()).to(device)\n",
    "# model = Megadescriptor(num_classes=data[\"unified_class\"].nunique()).to(device)\n",
    "\n",
    "\n",
    "# Инициализируем функцию потерь (loss/criterion), а так же оптимизатор, который будет регулировать обновление весов нашей модели\n",
    "optimizer = optim.AdamW(model.parameters(), lr=3e-4)\n",
    "criterion = nn.CrossEntropyLoss()\n",
    "\n",
    "# Переменные для визуализации метрик и функции потерь\n",
    "train_losses = []\n",
    "val_losses = []\n",
    "\n",
    "# Для удобства оценивать качество модели будем той же метрику, что на лидерборде - F1 score\n",
    "train_f1_scores = []\n",
    "val_f1_scores = []\n",
    "\n",
    "best_val_f1 = 0.0\n",
    "best_model_path = 'best_model.pth'\n",
    "\n",
    "# Определим, сколько раз мы пройдёмся по всему датасету, прежде, чем закончим обучение модели и выберем лучшую версию\n",
    "num_epochs = 50\n",
    "\n",
    "# Шаговое уменьшение (StepLR)\n",
    "scheduler = StepLR(optimizer, step_size=5, gamma=0.1)  # Каждые 5 эпох уменьшать lr в 10 раз\n",
    "\n",
    "# Напишем свой train_loop\n",
    "for epoch in range(num_epochs):\n",
    "    model.train()\n",
    "    running_loss = 0.0\n",
    "    train_true = []\n",
    "    train_pred = []\n",
    "\n",
    "    for batch in tqdm(train_dataloader):\n",
    "        inputs, labels = batch\n",
    "        inputs, labels = inputs.to(device), labels.to(device)\n",
    "\n",
    "        optimizer.zero_grad()\n",
    "\n",
    "        outputs = model((inputs, labels))\n",
    "        loss = criterion(outputs, labels)\n",
    "        loss.backward()\n",
    "        optimizer.step()\n",
    "\n",
    "        running_loss += loss.item()\n",
    "\n",
    "        preds = torch.argmax(outputs, dim=1)\n",
    "        # train_true.extend(labels.cpu().numpy())\n",
    "        # train_pred.extend(preds.cpu().numpy())\n",
    "\n",
    "    # train_f1 = f1_score(train_true, train_pred, average='macro')\n",
    "    # train_losses.append(running_loss / len(train_dataloader))\n",
    "    # train_f1_scores.append(train_f1)\n",
    "\n",
    "    scheduler.step()\n",
    "    model.eval()\n",
    "    val_running_loss = 0.0\n",
    "    val_true = []\n",
    "    val_pred = []\n",
    "\n",
    "    # валидационный цикл, когда мы оцениваем качество работы модели на отложенной выборке\n",
    "    with torch.no_grad():\n",
    "        for batch in tqdm(valid_dataloader):\n",
    "            inputs, labels = batch\n",
    "            inputs, labels = inputs.to(device), labels.to(device)\n",
    "\n",
    "            outputs = model((inputs, labels))\n",
    "            loss = criterion(outputs, labels)\n",
    "\n",
    "            val_running_loss += loss.item()\n",
    "\n",
    "            preds = torch.argmax(outputs, dim=1)\n",
    "            val_true.extend(labels.cpu().numpy())\n",
    "            val_pred.extend(preds.cpu().numpy())\n",
    "\n",
    "    val_f1 = f1_score(val_true, val_pred, average='macro')\n",
    "    val_losses.append(val_running_loss / len(valid_dataloader))\n",
    "    val_f1_scores.append(val_f1)\n",
    "\n",
    "    # если получившаяся модель лучше предыдущей, сохраним чекпоинт\n",
    "    if val_f1 > best_val_f1:\n",
    "        best_val_f1 = val_f1\n",
    "        torch.save(model.state_dict(), best_model_path)\n",
    "        print(f'New best model saved with F1: {best_val_f1:.4f}')\n",
    "\n",
    "\n",
    "    # выведем в консоль получившиеся результаты на отдельной эпохе\n",
    "    print(f'Epoch [{epoch+1}/{num_epochs}], '\n",
    "        #   f'Train Loss: {train_losses[-1]:.4f}, Train F1: {train_f1:.4f}, '\n",
    "          f'Val Loss: {val_losses[-1]:.4f}, Val F1: {val_f1:.4f}')"
   ]
  },
  {
   "cell_type": "code",
   "execution_count": 33,
   "metadata": {},
   "outputs": [],
   "source": [
    "sample = pd.read_csv(r\"D:\\data science\\IOAI_DZ\\Lesson 5, Homework\\ioai-journey-to-springfield\\journey-springfield\\sample_submission.csv\")\n"
   ]
  },
  {
   "cell_type": "code",
   "execution_count": 34,
   "metadata": {},
   "outputs": [
    {
     "data": {
      "application/vnd.microsoft.datawrangler.viewer.v0+json": {
       "columns": [
        {
         "name": "index",
         "rawType": "int64",
         "type": "integer"
        },
        {
         "name": "Id",
         "rawType": "object",
         "type": "string"
        },
        {
         "name": "Expected",
         "rawType": "object",
         "type": "string"
        }
       ],
       "conversionMethod": "pd.DataFrame",
       "ref": "609f1cd7-4ff7-474f-b3c1-7f8fc7d2cc27",
       "rows": [
        [
         "0",
         "img0.jpg",
         "bart_simpson"
        ],
        [
         "1",
         "img1.jpg",
         "bart_simpson"
        ],
        [
         "2",
         "img2.jpg",
         "bart_simpson"
        ],
        [
         "3",
         "img3.jpg",
         "bart_simpson"
        ],
        [
         "4",
         "img4.jpg",
         "bart_simpson"
        ],
        [
         "5",
         "img5.jpg",
         "bart_simpson"
        ],
        [
         "6",
         "img6.jpg",
         "bart_simpson"
        ],
        [
         "7",
         "img7.jpg",
         "bart_simpson"
        ],
        [
         "8",
         "img8.jpg",
         "bart_simpson"
        ],
        [
         "9",
         "img9.jpg",
         "bart_simpson"
        ],
        [
         "10",
         "img10.jpg",
         "bart_simpson"
        ],
        [
         "11",
         "img11.jpg",
         "bart_simpson"
        ],
        [
         "12",
         "img12.jpg",
         "bart_simpson"
        ],
        [
         "13",
         "img13.jpg",
         "bart_simpson"
        ],
        [
         "14",
         "img14.jpg",
         "bart_simpson"
        ],
        [
         "15",
         "img15.jpg",
         "bart_simpson"
        ],
        [
         "16",
         "img16.jpg",
         "bart_simpson"
        ],
        [
         "17",
         "img17.jpg",
         "bart_simpson"
        ],
        [
         "18",
         "img18.jpg",
         "bart_simpson"
        ],
        [
         "19",
         "img19.jpg",
         "bart_simpson"
        ],
        [
         "20",
         "img20.jpg",
         "bart_simpson"
        ],
        [
         "21",
         "img21.jpg",
         "bart_simpson"
        ],
        [
         "22",
         "img22.jpg",
         "bart_simpson"
        ],
        [
         "23",
         "img23.jpg",
         "bart_simpson"
        ],
        [
         "24",
         "img24.jpg",
         "bart_simpson"
        ],
        [
         "25",
         "img25.jpg",
         "bart_simpson"
        ],
        [
         "26",
         "img26.jpg",
         "bart_simpson"
        ],
        [
         "27",
         "img27.jpg",
         "bart_simpson"
        ],
        [
         "28",
         "img28.jpg",
         "bart_simpson"
        ],
        [
         "29",
         "img29.jpg",
         "bart_simpson"
        ],
        [
         "30",
         "img30.jpg",
         "bart_simpson"
        ],
        [
         "31",
         "img31.jpg",
         "bart_simpson"
        ],
        [
         "32",
         "img32.jpg",
         "bart_simpson"
        ],
        [
         "33",
         "img33.jpg",
         "bart_simpson"
        ],
        [
         "34",
         "img34.jpg",
         "bart_simpson"
        ],
        [
         "35",
         "img35.jpg",
         "bart_simpson"
        ],
        [
         "36",
         "img36.jpg",
         "bart_simpson"
        ],
        [
         "37",
         "img37.jpg",
         "bart_simpson"
        ],
        [
         "38",
         "img38.jpg",
         "bart_simpson"
        ],
        [
         "39",
         "img39.jpg",
         "bart_simpson"
        ],
        [
         "40",
         "img40.jpg",
         "bart_simpson"
        ],
        [
         "41",
         "img41.jpg",
         "bart_simpson"
        ],
        [
         "42",
         "img42.jpg",
         "bart_simpson"
        ],
        [
         "43",
         "img43.jpg",
         "bart_simpson"
        ],
        [
         "44",
         "img44.jpg",
         "bart_simpson"
        ],
        [
         "45",
         "img45.jpg",
         "bart_simpson"
        ],
        [
         "46",
         "img46.jpg",
         "bart_simpson"
        ],
        [
         "47",
         "img47.jpg",
         "bart_simpson"
        ],
        [
         "48",
         "img48.jpg",
         "bart_simpson"
        ],
        [
         "49",
         "img49.jpg",
         "bart_simpson"
        ]
       ],
       "shape": {
        "columns": 2,
        "rows": 991
       }
      },
      "text/html": [
       "<div>\n",
       "<style scoped>\n",
       "    .dataframe tbody tr th:only-of-type {\n",
       "        vertical-align: middle;\n",
       "    }\n",
       "\n",
       "    .dataframe tbody tr th {\n",
       "        vertical-align: top;\n",
       "    }\n",
       "\n",
       "    .dataframe thead th {\n",
       "        text-align: right;\n",
       "    }\n",
       "</style>\n",
       "<table border=\"1\" class=\"dataframe\">\n",
       "  <thead>\n",
       "    <tr style=\"text-align: right;\">\n",
       "      <th></th>\n",
       "      <th>Id</th>\n",
       "      <th>Expected</th>\n",
       "    </tr>\n",
       "  </thead>\n",
       "  <tbody>\n",
       "    <tr>\n",
       "      <th>0</th>\n",
       "      <td>img0.jpg</td>\n",
       "      <td>bart_simpson</td>\n",
       "    </tr>\n",
       "    <tr>\n",
       "      <th>1</th>\n",
       "      <td>img1.jpg</td>\n",
       "      <td>bart_simpson</td>\n",
       "    </tr>\n",
       "    <tr>\n",
       "      <th>2</th>\n",
       "      <td>img2.jpg</td>\n",
       "      <td>bart_simpson</td>\n",
       "    </tr>\n",
       "    <tr>\n",
       "      <th>3</th>\n",
       "      <td>img3.jpg</td>\n",
       "      <td>bart_simpson</td>\n",
       "    </tr>\n",
       "    <tr>\n",
       "      <th>4</th>\n",
       "      <td>img4.jpg</td>\n",
       "      <td>bart_simpson</td>\n",
       "    </tr>\n",
       "    <tr>\n",
       "      <th>...</th>\n",
       "      <td>...</td>\n",
       "      <td>...</td>\n",
       "    </tr>\n",
       "    <tr>\n",
       "      <th>986</th>\n",
       "      <td>img986.jpg</td>\n",
       "      <td>bart_simpson</td>\n",
       "    </tr>\n",
       "    <tr>\n",
       "      <th>987</th>\n",
       "      <td>img987.jpg</td>\n",
       "      <td>bart_simpson</td>\n",
       "    </tr>\n",
       "    <tr>\n",
       "      <th>988</th>\n",
       "      <td>img988.jpg</td>\n",
       "      <td>bart_simpson</td>\n",
       "    </tr>\n",
       "    <tr>\n",
       "      <th>989</th>\n",
       "      <td>img989.jpg</td>\n",
       "      <td>bart_simpson</td>\n",
       "    </tr>\n",
       "    <tr>\n",
       "      <th>990</th>\n",
       "      <td>img990.jpg</td>\n",
       "      <td>bart_simpson</td>\n",
       "    </tr>\n",
       "  </tbody>\n",
       "</table>\n",
       "<p>991 rows × 2 columns</p>\n",
       "</div>"
      ],
      "text/plain": [
       "             Id      Expected\n",
       "0      img0.jpg  bart_simpson\n",
       "1      img1.jpg  bart_simpson\n",
       "2      img2.jpg  bart_simpson\n",
       "3      img3.jpg  bart_simpson\n",
       "4      img4.jpg  bart_simpson\n",
       "..          ...           ...\n",
       "986  img986.jpg  bart_simpson\n",
       "987  img987.jpg  bart_simpson\n",
       "988  img988.jpg  bart_simpson\n",
       "989  img989.jpg  bart_simpson\n",
       "990  img990.jpg  bart_simpson\n",
       "\n",
       "[991 rows x 2 columns]"
      ]
     },
     "execution_count": 34,
     "metadata": {},
     "output_type": "execute_result"
    }
   ],
   "source": [
    "sample"
   ]
  },
  {
   "cell_type": "code",
   "execution_count": 35,
   "metadata": {},
   "outputs": [
    {
     "data": {
      "application/vnd.microsoft.datawrangler.viewer.v0+json": {
       "columns": [
        {
         "name": "index",
         "rawType": "int64",
         "type": "integer"
        },
        {
         "name": "Id",
         "rawType": "object",
         "type": "string"
        },
        {
         "name": "Expected",
         "rawType": "object",
         "type": "string"
        },
        {
         "name": "image_name",
         "rawType": "object",
         "type": "string"
        }
       ],
       "conversionMethod": "pd.DataFrame",
       "ref": "90cdeb22-595e-4bf6-aed4-930e2ce70cc7",
       "rows": [
        [
         "0",
         "img0.jpg",
         "bart_simpson",
         "journey-springfield/testset/img0.jpg"
        ],
        [
         "1",
         "img1.jpg",
         "bart_simpson",
         "journey-springfield/testset/img1.jpg"
        ],
        [
         "2",
         "img2.jpg",
         "bart_simpson",
         "journey-springfield/testset/img2.jpg"
        ],
        [
         "3",
         "img3.jpg",
         "bart_simpson",
         "journey-springfield/testset/img3.jpg"
        ],
        [
         "4",
         "img4.jpg",
         "bart_simpson",
         "journey-springfield/testset/img4.jpg"
        ],
        [
         "5",
         "img5.jpg",
         "bart_simpson",
         "journey-springfield/testset/img5.jpg"
        ],
        [
         "6",
         "img6.jpg",
         "bart_simpson",
         "journey-springfield/testset/img6.jpg"
        ],
        [
         "7",
         "img7.jpg",
         "bart_simpson",
         "journey-springfield/testset/img7.jpg"
        ],
        [
         "8",
         "img8.jpg",
         "bart_simpson",
         "journey-springfield/testset/img8.jpg"
        ],
        [
         "9",
         "img9.jpg",
         "bart_simpson",
         "journey-springfield/testset/img9.jpg"
        ],
        [
         "10",
         "img10.jpg",
         "bart_simpson",
         "journey-springfield/testset/img10.jpg"
        ],
        [
         "11",
         "img11.jpg",
         "bart_simpson",
         "journey-springfield/testset/img11.jpg"
        ],
        [
         "12",
         "img12.jpg",
         "bart_simpson",
         "journey-springfield/testset/img12.jpg"
        ],
        [
         "13",
         "img13.jpg",
         "bart_simpson",
         "journey-springfield/testset/img13.jpg"
        ],
        [
         "14",
         "img14.jpg",
         "bart_simpson",
         "journey-springfield/testset/img14.jpg"
        ],
        [
         "15",
         "img15.jpg",
         "bart_simpson",
         "journey-springfield/testset/img15.jpg"
        ],
        [
         "16",
         "img16.jpg",
         "bart_simpson",
         "journey-springfield/testset/img16.jpg"
        ],
        [
         "17",
         "img17.jpg",
         "bart_simpson",
         "journey-springfield/testset/img17.jpg"
        ],
        [
         "18",
         "img18.jpg",
         "bart_simpson",
         "journey-springfield/testset/img18.jpg"
        ],
        [
         "19",
         "img19.jpg",
         "bart_simpson",
         "journey-springfield/testset/img19.jpg"
        ],
        [
         "20",
         "img20.jpg",
         "bart_simpson",
         "journey-springfield/testset/img20.jpg"
        ],
        [
         "21",
         "img21.jpg",
         "bart_simpson",
         "journey-springfield/testset/img21.jpg"
        ],
        [
         "22",
         "img22.jpg",
         "bart_simpson",
         "journey-springfield/testset/img22.jpg"
        ],
        [
         "23",
         "img23.jpg",
         "bart_simpson",
         "journey-springfield/testset/img23.jpg"
        ],
        [
         "24",
         "img24.jpg",
         "bart_simpson",
         "journey-springfield/testset/img24.jpg"
        ],
        [
         "25",
         "img25.jpg",
         "bart_simpson",
         "journey-springfield/testset/img25.jpg"
        ],
        [
         "26",
         "img26.jpg",
         "bart_simpson",
         "journey-springfield/testset/img26.jpg"
        ],
        [
         "27",
         "img27.jpg",
         "bart_simpson",
         "journey-springfield/testset/img27.jpg"
        ],
        [
         "28",
         "img28.jpg",
         "bart_simpson",
         "journey-springfield/testset/img28.jpg"
        ],
        [
         "29",
         "img29.jpg",
         "bart_simpson",
         "journey-springfield/testset/img29.jpg"
        ],
        [
         "30",
         "img30.jpg",
         "bart_simpson",
         "journey-springfield/testset/img30.jpg"
        ],
        [
         "31",
         "img31.jpg",
         "bart_simpson",
         "journey-springfield/testset/img31.jpg"
        ],
        [
         "32",
         "img32.jpg",
         "bart_simpson",
         "journey-springfield/testset/img32.jpg"
        ],
        [
         "33",
         "img33.jpg",
         "bart_simpson",
         "journey-springfield/testset/img33.jpg"
        ],
        [
         "34",
         "img34.jpg",
         "bart_simpson",
         "journey-springfield/testset/img34.jpg"
        ],
        [
         "35",
         "img35.jpg",
         "bart_simpson",
         "journey-springfield/testset/img35.jpg"
        ],
        [
         "36",
         "img36.jpg",
         "bart_simpson",
         "journey-springfield/testset/img36.jpg"
        ],
        [
         "37",
         "img37.jpg",
         "bart_simpson",
         "journey-springfield/testset/img37.jpg"
        ],
        [
         "38",
         "img38.jpg",
         "bart_simpson",
         "journey-springfield/testset/img38.jpg"
        ],
        [
         "39",
         "img39.jpg",
         "bart_simpson",
         "journey-springfield/testset/img39.jpg"
        ],
        [
         "40",
         "img40.jpg",
         "bart_simpson",
         "journey-springfield/testset/img40.jpg"
        ],
        [
         "41",
         "img41.jpg",
         "bart_simpson",
         "journey-springfield/testset/img41.jpg"
        ],
        [
         "42",
         "img42.jpg",
         "bart_simpson",
         "journey-springfield/testset/img42.jpg"
        ],
        [
         "43",
         "img43.jpg",
         "bart_simpson",
         "journey-springfield/testset/img43.jpg"
        ],
        [
         "44",
         "img44.jpg",
         "bart_simpson",
         "journey-springfield/testset/img44.jpg"
        ],
        [
         "45",
         "img45.jpg",
         "bart_simpson",
         "journey-springfield/testset/img45.jpg"
        ],
        [
         "46",
         "img46.jpg",
         "bart_simpson",
         "journey-springfield/testset/img46.jpg"
        ],
        [
         "47",
         "img47.jpg",
         "bart_simpson",
         "journey-springfield/testset/img47.jpg"
        ],
        [
         "48",
         "img48.jpg",
         "bart_simpson",
         "journey-springfield/testset/img48.jpg"
        ],
        [
         "49",
         "img49.jpg",
         "bart_simpson",
         "journey-springfield/testset/img49.jpg"
        ]
       ],
       "shape": {
        "columns": 3,
        "rows": 991
       }
      },
      "text/html": [
       "<div>\n",
       "<style scoped>\n",
       "    .dataframe tbody tr th:only-of-type {\n",
       "        vertical-align: middle;\n",
       "    }\n",
       "\n",
       "    .dataframe tbody tr th {\n",
       "        vertical-align: top;\n",
       "    }\n",
       "\n",
       "    .dataframe thead th {\n",
       "        text-align: right;\n",
       "    }\n",
       "</style>\n",
       "<table border=\"1\" class=\"dataframe\">\n",
       "  <thead>\n",
       "    <tr style=\"text-align: right;\">\n",
       "      <th></th>\n",
       "      <th>Id</th>\n",
       "      <th>Expected</th>\n",
       "      <th>image_name</th>\n",
       "    </tr>\n",
       "  </thead>\n",
       "  <tbody>\n",
       "    <tr>\n",
       "      <th>0</th>\n",
       "      <td>img0.jpg</td>\n",
       "      <td>bart_simpson</td>\n",
       "      <td>journey-springfield/testset/img0.jpg</td>\n",
       "    </tr>\n",
       "    <tr>\n",
       "      <th>1</th>\n",
       "      <td>img1.jpg</td>\n",
       "      <td>bart_simpson</td>\n",
       "      <td>journey-springfield/testset/img1.jpg</td>\n",
       "    </tr>\n",
       "    <tr>\n",
       "      <th>2</th>\n",
       "      <td>img2.jpg</td>\n",
       "      <td>bart_simpson</td>\n",
       "      <td>journey-springfield/testset/img2.jpg</td>\n",
       "    </tr>\n",
       "    <tr>\n",
       "      <th>3</th>\n",
       "      <td>img3.jpg</td>\n",
       "      <td>bart_simpson</td>\n",
       "      <td>journey-springfield/testset/img3.jpg</td>\n",
       "    </tr>\n",
       "    <tr>\n",
       "      <th>4</th>\n",
       "      <td>img4.jpg</td>\n",
       "      <td>bart_simpson</td>\n",
       "      <td>journey-springfield/testset/img4.jpg</td>\n",
       "    </tr>\n",
       "    <tr>\n",
       "      <th>...</th>\n",
       "      <td>...</td>\n",
       "      <td>...</td>\n",
       "      <td>...</td>\n",
       "    </tr>\n",
       "    <tr>\n",
       "      <th>986</th>\n",
       "      <td>img986.jpg</td>\n",
       "      <td>bart_simpson</td>\n",
       "      <td>journey-springfield/testset/img986.jpg</td>\n",
       "    </tr>\n",
       "    <tr>\n",
       "      <th>987</th>\n",
       "      <td>img987.jpg</td>\n",
       "      <td>bart_simpson</td>\n",
       "      <td>journey-springfield/testset/img987.jpg</td>\n",
       "    </tr>\n",
       "    <tr>\n",
       "      <th>988</th>\n",
       "      <td>img988.jpg</td>\n",
       "      <td>bart_simpson</td>\n",
       "      <td>journey-springfield/testset/img988.jpg</td>\n",
       "    </tr>\n",
       "    <tr>\n",
       "      <th>989</th>\n",
       "      <td>img989.jpg</td>\n",
       "      <td>bart_simpson</td>\n",
       "      <td>journey-springfield/testset/img989.jpg</td>\n",
       "    </tr>\n",
       "    <tr>\n",
       "      <th>990</th>\n",
       "      <td>img990.jpg</td>\n",
       "      <td>bart_simpson</td>\n",
       "      <td>journey-springfield/testset/img990.jpg</td>\n",
       "    </tr>\n",
       "  </tbody>\n",
       "</table>\n",
       "<p>991 rows × 3 columns</p>\n",
       "</div>"
      ],
      "text/plain": [
       "             Id      Expected                              image_name\n",
       "0      img0.jpg  bart_simpson    journey-springfield/testset/img0.jpg\n",
       "1      img1.jpg  bart_simpson    journey-springfield/testset/img1.jpg\n",
       "2      img2.jpg  bart_simpson    journey-springfield/testset/img2.jpg\n",
       "3      img3.jpg  bart_simpson    journey-springfield/testset/img3.jpg\n",
       "4      img4.jpg  bart_simpson    journey-springfield/testset/img4.jpg\n",
       "..          ...           ...                                     ...\n",
       "986  img986.jpg  bart_simpson  journey-springfield/testset/img986.jpg\n",
       "987  img987.jpg  bart_simpson  journey-springfield/testset/img987.jpg\n",
       "988  img988.jpg  bart_simpson  journey-springfield/testset/img988.jpg\n",
       "989  img989.jpg  bart_simpson  journey-springfield/testset/img989.jpg\n",
       "990  img990.jpg  bart_simpson  journey-springfield/testset/img990.jpg\n",
       "\n",
       "[991 rows x 3 columns]"
      ]
     },
     "execution_count": 35,
     "metadata": {},
     "output_type": "execute_result"
    }
   ],
   "source": [
    "sample['image_name'] = r'journey-springfield/testset/'+sample['Id']\n",
    "sample"
   ]
  },
  {
   "cell_type": "code",
   "execution_count": 38,
   "metadata": {},
   "outputs": [
    {
     "name": "stderr",
     "output_type": "stream",
     "text": [
      "C:\\Users\\danie\\AppData\\Local\\Temp\\ipykernel_10972\\4094907188.py:38: FutureWarning: You are using `torch.load` with `weights_only=False` (the current default value), which uses the default pickle module implicitly. It is possible to construct malicious pickle data which will execute arbitrary code during unpickling (See https://github.com/pytorch/pytorch/blob/main/SECURITY.md#untrusted-models for more details). In a future release, the default value for `weights_only` will be flipped to `True`. This limits the functions that could be executed during unpickling. Arbitrary objects will no longer be allowed to be loaded via this mode unless they are explicitly allowlisted by the user via `torch.serialization.add_safe_globals`. We recommend you start setting `weights_only=True` for any use case where you don't have full control of the loaded file. Please open an issue on GitHub for any issues related to this experimental feature.\n",
      "  model.load_state_dict(torch.load(best_model_path))\n"
     ]
    },
    {
     "data": {
      "application/vnd.jupyter.widget-view+json": {
       "model_id": "23fa9551d2de418aa4fec204f7386e4d",
       "version_major": 2,
       "version_minor": 0
      },
      "text/plain": [
       "  0%|          | 0/991 [00:00<?, ?it/s]"
      ]
     },
     "metadata": {},
     "output_type": "display_data"
    },
    {
     "data": {
      "application/vnd.microsoft.datawrangler.viewer.v0+json": {
       "columns": [
        {
         "name": "index",
         "rawType": "int64",
         "type": "integer"
        },
        {
         "name": "Id",
         "rawType": "object",
         "type": "string"
        },
        {
         "name": "Expected",
         "rawType": "object",
         "type": "string"
        },
        {
         "name": "image_name",
         "rawType": "object",
         "type": "string"
        },
        {
         "name": "predicted_class",
         "rawType": "int64",
         "type": "integer"
        }
       ],
       "conversionMethod": "pd.DataFrame",
       "ref": "7cd8f421-609b-4b03-abfd-ca4ad7bab89f",
       "rows": [
        [
         "0",
         "img0.jpg",
         "bart_simpson",
         "journey-springfield/testset/img0.jpg",
         "29"
        ],
        [
         "1",
         "img1.jpg",
         "bart_simpson",
         "journey-springfield/testset/img1.jpg",
         "4"
        ],
        [
         "2",
         "img2.jpg",
         "bart_simpson",
         "journey-springfield/testset/img2.jpg",
         "24"
        ],
        [
         "3",
         "img3.jpg",
         "bart_simpson",
         "journey-springfield/testset/img3.jpg",
         "29"
        ],
        [
         "4",
         "img4.jpg",
         "bart_simpson",
         "journey-springfield/testset/img4.jpg",
         "20"
        ],
        [
         "5",
         "img5.jpg",
         "bart_simpson",
         "journey-springfield/testset/img5.jpg",
         "32"
        ],
        [
         "6",
         "img6.jpg",
         "bart_simpson",
         "journey-springfield/testset/img6.jpg",
         "17"
        ],
        [
         "7",
         "img7.jpg",
         "bart_simpson",
         "journey-springfield/testset/img7.jpg",
         "2"
        ],
        [
         "8",
         "img8.jpg",
         "bart_simpson",
         "journey-springfield/testset/img8.jpg",
         "32"
        ],
        [
         "9",
         "img9.jpg",
         "bart_simpson",
         "journey-springfield/testset/img9.jpg",
         "9"
        ],
        [
         "10",
         "img10.jpg",
         "bart_simpson",
         "journey-springfield/testset/img10.jpg",
         "28"
        ],
        [
         "11",
         "img11.jpg",
         "bart_simpson",
         "journey-springfield/testset/img11.jpg",
         "28"
        ],
        [
         "12",
         "img12.jpg",
         "bart_simpson",
         "journey-springfield/testset/img12.jpg",
         "15"
        ],
        [
         "13",
         "img13.jpg",
         "bart_simpson",
         "journey-springfield/testset/img13.jpg",
         "0"
        ],
        [
         "14",
         "img14.jpg",
         "bart_simpson",
         "journey-springfield/testset/img14.jpg",
         "29"
        ],
        [
         "15",
         "img15.jpg",
         "bart_simpson",
         "journey-springfield/testset/img15.jpg",
         "6"
        ],
        [
         "16",
         "img16.jpg",
         "bart_simpson",
         "journey-springfield/testset/img16.jpg",
         "24"
        ],
        [
         "17",
         "img17.jpg",
         "bart_simpson",
         "journey-springfield/testset/img17.jpg",
         "9"
        ],
        [
         "18",
         "img18.jpg",
         "bart_simpson",
         "journey-springfield/testset/img18.jpg",
         "15"
        ],
        [
         "19",
         "img19.jpg",
         "bart_simpson",
         "journey-springfield/testset/img19.jpg",
         "25"
        ],
        [
         "20",
         "img20.jpg",
         "bart_simpson",
         "journey-springfield/testset/img20.jpg",
         "22"
        ],
        [
         "21",
         "img21.jpg",
         "bart_simpson",
         "journey-springfield/testset/img21.jpg",
         "32"
        ],
        [
         "22",
         "img22.jpg",
         "bart_simpson",
         "journey-springfield/testset/img22.jpg",
         "27"
        ],
        [
         "23",
         "img23.jpg",
         "bart_simpson",
         "journey-springfield/testset/img23.jpg",
         "7"
        ],
        [
         "24",
         "img24.jpg",
         "bart_simpson",
         "journey-springfield/testset/img24.jpg",
         "7"
        ],
        [
         "25",
         "img25.jpg",
         "bart_simpson",
         "journey-springfield/testset/img25.jpg",
         "2"
        ],
        [
         "26",
         "img26.jpg",
         "bart_simpson",
         "journey-springfield/testset/img26.jpg",
         "0"
        ],
        [
         "27",
         "img27.jpg",
         "bart_simpson",
         "journey-springfield/testset/img27.jpg",
         "11"
        ],
        [
         "28",
         "img28.jpg",
         "bart_simpson",
         "journey-springfield/testset/img28.jpg",
         "15"
        ],
        [
         "29",
         "img29.jpg",
         "bart_simpson",
         "journey-springfield/testset/img29.jpg",
         "27"
        ],
        [
         "30",
         "img30.jpg",
         "bart_simpson",
         "journey-springfield/testset/img30.jpg",
         "17"
        ],
        [
         "31",
         "img31.jpg",
         "bart_simpson",
         "journey-springfield/testset/img31.jpg",
         "9"
        ],
        [
         "32",
         "img32.jpg",
         "bart_simpson",
         "journey-springfield/testset/img32.jpg",
         "6"
        ],
        [
         "33",
         "img33.jpg",
         "bart_simpson",
         "journey-springfield/testset/img33.jpg",
         "22"
        ],
        [
         "34",
         "img34.jpg",
         "bart_simpson",
         "journey-springfield/testset/img34.jpg",
         "11"
        ],
        [
         "35",
         "img35.jpg",
         "bart_simpson",
         "journey-springfield/testset/img35.jpg",
         "37"
        ],
        [
         "36",
         "img36.jpg",
         "bart_simpson",
         "journey-springfield/testset/img36.jpg",
         "7"
        ],
        [
         "37",
         "img37.jpg",
         "bart_simpson",
         "journey-springfield/testset/img37.jpg",
         "27"
        ],
        [
         "38",
         "img38.jpg",
         "bart_simpson",
         "journey-springfield/testset/img38.jpg",
         "27"
        ],
        [
         "39",
         "img39.jpg",
         "bart_simpson",
         "journey-springfield/testset/img39.jpg",
         "27"
        ],
        [
         "40",
         "img40.jpg",
         "bart_simpson",
         "journey-springfield/testset/img40.jpg",
         "27"
        ],
        [
         "41",
         "img41.jpg",
         "bart_simpson",
         "journey-springfield/testset/img41.jpg",
         "29"
        ],
        [
         "42",
         "img42.jpg",
         "bart_simpson",
         "journey-springfield/testset/img42.jpg",
         "9"
        ],
        [
         "43",
         "img43.jpg",
         "bart_simpson",
         "journey-springfield/testset/img43.jpg",
         "24"
        ],
        [
         "44",
         "img44.jpg",
         "bart_simpson",
         "journey-springfield/testset/img44.jpg",
         "11"
        ],
        [
         "45",
         "img45.jpg",
         "bart_simpson",
         "journey-springfield/testset/img45.jpg",
         "11"
        ],
        [
         "46",
         "img46.jpg",
         "bart_simpson",
         "journey-springfield/testset/img46.jpg",
         "17"
        ],
        [
         "47",
         "img47.jpg",
         "bart_simpson",
         "journey-springfield/testset/img47.jpg",
         "32"
        ],
        [
         "48",
         "img48.jpg",
         "bart_simpson",
         "journey-springfield/testset/img48.jpg",
         "24"
        ],
        [
         "49",
         "img49.jpg",
         "bart_simpson",
         "journey-springfield/testset/img49.jpg",
         "25"
        ]
       ],
       "shape": {
        "columns": 4,
        "rows": 991
       }
      },
      "text/html": [
       "<div>\n",
       "<style scoped>\n",
       "    .dataframe tbody tr th:only-of-type {\n",
       "        vertical-align: middle;\n",
       "    }\n",
       "\n",
       "    .dataframe tbody tr th {\n",
       "        vertical-align: top;\n",
       "    }\n",
       "\n",
       "    .dataframe thead th {\n",
       "        text-align: right;\n",
       "    }\n",
       "</style>\n",
       "<table border=\"1\" class=\"dataframe\">\n",
       "  <thead>\n",
       "    <tr style=\"text-align: right;\">\n",
       "      <th></th>\n",
       "      <th>Id</th>\n",
       "      <th>Expected</th>\n",
       "      <th>image_name</th>\n",
       "      <th>predicted_class</th>\n",
       "    </tr>\n",
       "  </thead>\n",
       "  <tbody>\n",
       "    <tr>\n",
       "      <th>0</th>\n",
       "      <td>img0.jpg</td>\n",
       "      <td>bart_simpson</td>\n",
       "      <td>journey-springfield/testset/img0.jpg</td>\n",
       "      <td>29</td>\n",
       "    </tr>\n",
       "    <tr>\n",
       "      <th>1</th>\n",
       "      <td>img1.jpg</td>\n",
       "      <td>bart_simpson</td>\n",
       "      <td>journey-springfield/testset/img1.jpg</td>\n",
       "      <td>4</td>\n",
       "    </tr>\n",
       "    <tr>\n",
       "      <th>2</th>\n",
       "      <td>img2.jpg</td>\n",
       "      <td>bart_simpson</td>\n",
       "      <td>journey-springfield/testset/img2.jpg</td>\n",
       "      <td>24</td>\n",
       "    </tr>\n",
       "    <tr>\n",
       "      <th>3</th>\n",
       "      <td>img3.jpg</td>\n",
       "      <td>bart_simpson</td>\n",
       "      <td>journey-springfield/testset/img3.jpg</td>\n",
       "      <td>29</td>\n",
       "    </tr>\n",
       "    <tr>\n",
       "      <th>4</th>\n",
       "      <td>img4.jpg</td>\n",
       "      <td>bart_simpson</td>\n",
       "      <td>journey-springfield/testset/img4.jpg</td>\n",
       "      <td>20</td>\n",
       "    </tr>\n",
       "    <tr>\n",
       "      <th>...</th>\n",
       "      <td>...</td>\n",
       "      <td>...</td>\n",
       "      <td>...</td>\n",
       "      <td>...</td>\n",
       "    </tr>\n",
       "    <tr>\n",
       "      <th>986</th>\n",
       "      <td>img986.jpg</td>\n",
       "      <td>bart_simpson</td>\n",
       "      <td>journey-springfield/testset/img986.jpg</td>\n",
       "      <td>37</td>\n",
       "    </tr>\n",
       "    <tr>\n",
       "      <th>987</th>\n",
       "      <td>img987.jpg</td>\n",
       "      <td>bart_simpson</td>\n",
       "      <td>journey-springfield/testset/img987.jpg</td>\n",
       "      <td>29</td>\n",
       "    </tr>\n",
       "    <tr>\n",
       "      <th>988</th>\n",
       "      <td>img988.jpg</td>\n",
       "      <td>bart_simpson</td>\n",
       "      <td>journey-springfield/testset/img988.jpg</td>\n",
       "      <td>6</td>\n",
       "    </tr>\n",
       "    <tr>\n",
       "      <th>989</th>\n",
       "      <td>img989.jpg</td>\n",
       "      <td>bart_simpson</td>\n",
       "      <td>journey-springfield/testset/img989.jpg</td>\n",
       "      <td>6</td>\n",
       "    </tr>\n",
       "    <tr>\n",
       "      <th>990</th>\n",
       "      <td>img990.jpg</td>\n",
       "      <td>bart_simpson</td>\n",
       "      <td>journey-springfield/testset/img990.jpg</td>\n",
       "      <td>17</td>\n",
       "    </tr>\n",
       "  </tbody>\n",
       "</table>\n",
       "<p>991 rows × 4 columns</p>\n",
       "</div>"
      ],
      "text/plain": [
       "             Id      Expected                              image_name  \\\n",
       "0      img0.jpg  bart_simpson    journey-springfield/testset/img0.jpg   \n",
       "1      img1.jpg  bart_simpson    journey-springfield/testset/img1.jpg   \n",
       "2      img2.jpg  bart_simpson    journey-springfield/testset/img2.jpg   \n",
       "3      img3.jpg  bart_simpson    journey-springfield/testset/img3.jpg   \n",
       "4      img4.jpg  bart_simpson    journey-springfield/testset/img4.jpg   \n",
       "..          ...           ...                                     ...   \n",
       "986  img986.jpg  bart_simpson  journey-springfield/testset/img986.jpg   \n",
       "987  img987.jpg  bart_simpson  journey-springfield/testset/img987.jpg   \n",
       "988  img988.jpg  bart_simpson  journey-springfield/testset/img988.jpg   \n",
       "989  img989.jpg  bart_simpson  journey-springfield/testset/img989.jpg   \n",
       "990  img990.jpg  bart_simpson  journey-springfield/testset/img990.jpg   \n",
       "\n",
       "     predicted_class  \n",
       "0                 29  \n",
       "1                  4  \n",
       "2                 24  \n",
       "3                 29  \n",
       "4                 20  \n",
       "..               ...  \n",
       "986               37  \n",
       "987               29  \n",
       "988                6  \n",
       "989                6  \n",
       "990               17  \n",
       "\n",
       "[991 rows x 4 columns]"
      ]
     },
     "execution_count": 38,
     "metadata": {},
     "output_type": "execute_result"
    }
   ],
   "source": [
    "class InferenceDataset(Dataset):\n",
    "    def __init__(self, image_paths, transforms=None):\n",
    "        self.image_paths = image_paths\n",
    "        self.transforms = transforms\n",
    "\n",
    "    def __len__(self):\n",
    "        return len(self.image_paths)\n",
    "\n",
    "    def __getitem__(self, idx):\n",
    "        image_path = self.image_paths[idx]\n",
    "        image = Image.open(image_path).convert('RGB')\n",
    "        if self.transforms is not None:\n",
    "            image = self.transforms(image)\n",
    "        return image, image_path\n",
    "\n",
    "\n",
    "# Тут важно не ошибиться и не использовать тренировочные трансформы\n",
    "infer_transform = tt.Compose([\n",
    "    tt.RandomHorizontalFlip(),\n",
    "    tt.RandomRotation((-5, 5)),\n",
    "    tt.Resize((int(244 * 1.25), int(244 * 1.25))),\n",
    "    tt.ToTensor(),\n",
    "    tt.Normalize(mean=[0.485, 0.456, 0.406], std=[0.229, 0.224, 0.225]),\n",
    "])\n",
    "\n",
    "# Найдем все тестовые картинки\n",
    "test_image_paths = sample.image_name.tolist()\n",
    "\n",
    "infer_dataset = InferenceDataset(test_image_paths, transforms=infer_transform)\n",
    "infer_dataloader = DataLoader(infer_dataset, batch_size=1, shuffle=False)\n",
    "\n",
    "\n",
    "# Инициализируем нашу модель и загрузим в неё лучшие после эксперимента веса\n",
    "# model = ResNet18(num_classes=data[\"unified_class\"].nunique()).to(device)\n",
    "# model = EfficientNet(num_classes=data[\"unified_class\"].nunique()).to(device)\n",
    "\n",
    "best_model_path = r'D:\\data science\\IOAI_DZ\\Lesson 5, Homework\\ioai-journey-to-springfield\\best_model.pth'\n",
    "model.load_state_dict(torch.load(best_model_path))\n",
    "\n",
    "# Не забудем перевести модель в режим предсказания, а не обучения.\n",
    "model.eval()\n",
    "\n",
    "# Для ускорения инференса будем подавать в модель картинки батчами (по несколько картинок за раз) и сохраним предсказанные метки классов.\n",
    "results = []\n",
    "for images, image_names in tqdm(infer_dataloader):\n",
    "    images = images.to(device)\n",
    "\n",
    "    with torch.no_grad():\n",
    "        outputs = model((images, None)) #для не хагина\n",
    "        preds = torch.argmax(outputs, dim=1).cpu().numpy()\n",
    "\n",
    "        # outputs = model(images) # для хагина\n",
    "        # preds = torch.argmax(outputs.logits, dim=1).cpu().numpy()\n",
    "        \n",
    "        results.append(preds[0])\n",
    "\n",
    "\n",
    "# Для удобства объединим все пары \"имя файла - предсказанный класс\" в датафрейм (таблицу) с колонками image_name, predicted_class\n",
    "sample['predicted_class'] = results\n",
    "\n",
    "# Вывод DataFrame\n",
    "sample"
   ]
  },
  {
   "cell_type": "code",
   "execution_count": 39,
   "metadata": {},
   "outputs": [],
   "source": [
    "sample['Expected'] = le1.inverse_transform(sample['predicted_class'])\n"
   ]
  },
  {
   "cell_type": "code",
   "execution_count": 40,
   "metadata": {},
   "outputs": [
    {
     "data": {
      "application/vnd.microsoft.datawrangler.viewer.v0+json": {
       "columns": [
        {
         "name": "index",
         "rawType": "int64",
         "type": "integer"
        },
        {
         "name": "Id",
         "rawType": "object",
         "type": "string"
        },
        {
         "name": "Expected",
         "rawType": "object",
         "type": "string"
        },
        {
         "name": "image_name",
         "rawType": "object",
         "type": "string"
        },
        {
         "name": "predicted_class",
         "rawType": "int64",
         "type": "integer"
        }
       ],
       "conversionMethod": "pd.DataFrame",
       "ref": "0f8a0f24-974a-4668-80a5-4d0fedfd4a5a",
       "rows": [
        [
         "0",
         "img0.jpg",
         "nelson_muntz",
         "journey-springfield/testset/img0.jpg",
         "29"
        ],
        [
         "1",
         "img1.jpg",
         "bart_simpson",
         "journey-springfield/testset/img1.jpg",
         "4"
        ],
        [
         "2",
         "img2.jpg",
         "mayor_quimby",
         "journey-springfield/testset/img2.jpg",
         "24"
        ],
        [
         "3",
         "img3.jpg",
         "nelson_muntz",
         "journey-springfield/testset/img3.jpg",
         "29"
        ],
        [
         "4",
         "img4.jpg",
         "lisa_simpson",
         "journey-springfield/testset/img4.jpg",
         "20"
        ],
        [
         "5",
         "img5.jpg",
         "principal_skinner",
         "journey-springfield/testset/img5.jpg",
         "32"
        ],
        [
         "6",
         "img6.jpg",
         "krusty_the_clown",
         "journey-springfield/testset/img6.jpg",
         "17"
        ],
        [
         "7",
         "img7.jpg",
         "apu_nahasapeemapetilon",
         "journey-springfield/testset/img7.jpg",
         "2"
        ],
        [
         "8",
         "img8.jpg",
         "principal_skinner",
         "journey-springfield/testset/img8.jpg",
         "32"
        ],
        [
         "9",
         "img9.jpg",
         "comic_book_guy",
         "journey-springfield/testset/img9.jpg",
         "9"
        ],
        [
         "10",
         "img10.jpg",
         "ned_flanders",
         "journey-springfield/testset/img10.jpg",
         "28"
        ],
        [
         "11",
         "img11.jpg",
         "ned_flanders",
         "journey-springfield/testset/img11.jpg",
         "28"
        ],
        [
         "12",
         "img12.jpg",
         "homer_simpson",
         "journey-springfield/testset/img12.jpg",
         "15"
        ],
        [
         "13",
         "img13.jpg",
         "abraham_grampa_simpson",
         "journey-springfield/testset/img13.jpg",
         "0"
        ],
        [
         "14",
         "img14.jpg",
         "nelson_muntz",
         "journey-springfield/testset/img14.jpg",
         "29"
        ],
        [
         "15",
         "img15.jpg",
         "charles_montgomery_burns",
         "journey-springfield/testset/img15.jpg",
         "6"
        ],
        [
         "16",
         "img16.jpg",
         "mayor_quimby",
         "journey-springfield/testset/img16.jpg",
         "24"
        ],
        [
         "17",
         "img17.jpg",
         "comic_book_guy",
         "journey-springfield/testset/img17.jpg",
         "9"
        ],
        [
         "18",
         "img18.jpg",
         "homer_simpson",
         "journey-springfield/testset/img18.jpg",
         "15"
        ],
        [
         "19",
         "img19.jpg",
         "milhouse_van_houten",
         "journey-springfield/testset/img19.jpg",
         "25"
        ],
        [
         "20",
         "img20.jpg",
         "marge_simpson",
         "journey-springfield/testset/img20.jpg",
         "22"
        ],
        [
         "21",
         "img21.jpg",
         "principal_skinner",
         "journey-springfield/testset/img21.jpg",
         "32"
        ],
        [
         "22",
         "img22.jpg",
         "moe_szyslak",
         "journey-springfield/testset/img22.jpg",
         "27"
        ],
        [
         "23",
         "img23.jpg",
         "chief_wiggum",
         "journey-springfield/testset/img23.jpg",
         "7"
        ],
        [
         "24",
         "img24.jpg",
         "chief_wiggum",
         "journey-springfield/testset/img24.jpg",
         "7"
        ],
        [
         "25",
         "img25.jpg",
         "apu_nahasapeemapetilon",
         "journey-springfield/testset/img25.jpg",
         "2"
        ],
        [
         "26",
         "img26.jpg",
         "abraham_grampa_simpson",
         "journey-springfield/testset/img26.jpg",
         "0"
        ],
        [
         "27",
         "img27.jpg",
         "edna_krabappel",
         "journey-springfield/testset/img27.jpg",
         "11"
        ],
        [
         "28",
         "img28.jpg",
         "homer_simpson",
         "journey-springfield/testset/img28.jpg",
         "15"
        ],
        [
         "29",
         "img29.jpg",
         "moe_szyslak",
         "journey-springfield/testset/img29.jpg",
         "27"
        ],
        [
         "30",
         "img30.jpg",
         "krusty_the_clown",
         "journey-springfield/testset/img30.jpg",
         "17"
        ],
        [
         "31",
         "img31.jpg",
         "comic_book_guy",
         "journey-springfield/testset/img31.jpg",
         "9"
        ],
        [
         "32",
         "img32.jpg",
         "charles_montgomery_burns",
         "journey-springfield/testset/img32.jpg",
         "6"
        ],
        [
         "33",
         "img33.jpg",
         "marge_simpson",
         "journey-springfield/testset/img33.jpg",
         "22"
        ],
        [
         "34",
         "img34.jpg",
         "edna_krabappel",
         "journey-springfield/testset/img34.jpg",
         "11"
        ],
        [
         "35",
         "img35.jpg",
         "sideshow_bob",
         "journey-springfield/testset/img35.jpg",
         "37"
        ],
        [
         "36",
         "img36.jpg",
         "chief_wiggum",
         "journey-springfield/testset/img36.jpg",
         "7"
        ],
        [
         "37",
         "img37.jpg",
         "moe_szyslak",
         "journey-springfield/testset/img37.jpg",
         "27"
        ],
        [
         "38",
         "img38.jpg",
         "moe_szyslak",
         "journey-springfield/testset/img38.jpg",
         "27"
        ],
        [
         "39",
         "img39.jpg",
         "moe_szyslak",
         "journey-springfield/testset/img39.jpg",
         "27"
        ],
        [
         "40",
         "img40.jpg",
         "moe_szyslak",
         "journey-springfield/testset/img40.jpg",
         "27"
        ],
        [
         "41",
         "img41.jpg",
         "nelson_muntz",
         "journey-springfield/testset/img41.jpg",
         "29"
        ],
        [
         "42",
         "img42.jpg",
         "comic_book_guy",
         "journey-springfield/testset/img42.jpg",
         "9"
        ],
        [
         "43",
         "img43.jpg",
         "mayor_quimby",
         "journey-springfield/testset/img43.jpg",
         "24"
        ],
        [
         "44",
         "img44.jpg",
         "edna_krabappel",
         "journey-springfield/testset/img44.jpg",
         "11"
        ],
        [
         "45",
         "img45.jpg",
         "edna_krabappel",
         "journey-springfield/testset/img45.jpg",
         "11"
        ],
        [
         "46",
         "img46.jpg",
         "krusty_the_clown",
         "journey-springfield/testset/img46.jpg",
         "17"
        ],
        [
         "47",
         "img47.jpg",
         "principal_skinner",
         "journey-springfield/testset/img47.jpg",
         "32"
        ],
        [
         "48",
         "img48.jpg",
         "mayor_quimby",
         "journey-springfield/testset/img48.jpg",
         "24"
        ],
        [
         "49",
         "img49.jpg",
         "milhouse_van_houten",
         "journey-springfield/testset/img49.jpg",
         "25"
        ]
       ],
       "shape": {
        "columns": 4,
        "rows": 991
       }
      },
      "text/html": [
       "<div>\n",
       "<style scoped>\n",
       "    .dataframe tbody tr th:only-of-type {\n",
       "        vertical-align: middle;\n",
       "    }\n",
       "\n",
       "    .dataframe tbody tr th {\n",
       "        vertical-align: top;\n",
       "    }\n",
       "\n",
       "    .dataframe thead th {\n",
       "        text-align: right;\n",
       "    }\n",
       "</style>\n",
       "<table border=\"1\" class=\"dataframe\">\n",
       "  <thead>\n",
       "    <tr style=\"text-align: right;\">\n",
       "      <th></th>\n",
       "      <th>Id</th>\n",
       "      <th>Expected</th>\n",
       "      <th>image_name</th>\n",
       "      <th>predicted_class</th>\n",
       "    </tr>\n",
       "  </thead>\n",
       "  <tbody>\n",
       "    <tr>\n",
       "      <th>0</th>\n",
       "      <td>img0.jpg</td>\n",
       "      <td>nelson_muntz</td>\n",
       "      <td>journey-springfield/testset/img0.jpg</td>\n",
       "      <td>29</td>\n",
       "    </tr>\n",
       "    <tr>\n",
       "      <th>1</th>\n",
       "      <td>img1.jpg</td>\n",
       "      <td>bart_simpson</td>\n",
       "      <td>journey-springfield/testset/img1.jpg</td>\n",
       "      <td>4</td>\n",
       "    </tr>\n",
       "    <tr>\n",
       "      <th>2</th>\n",
       "      <td>img2.jpg</td>\n",
       "      <td>mayor_quimby</td>\n",
       "      <td>journey-springfield/testset/img2.jpg</td>\n",
       "      <td>24</td>\n",
       "    </tr>\n",
       "    <tr>\n",
       "      <th>3</th>\n",
       "      <td>img3.jpg</td>\n",
       "      <td>nelson_muntz</td>\n",
       "      <td>journey-springfield/testset/img3.jpg</td>\n",
       "      <td>29</td>\n",
       "    </tr>\n",
       "    <tr>\n",
       "      <th>4</th>\n",
       "      <td>img4.jpg</td>\n",
       "      <td>lisa_simpson</td>\n",
       "      <td>journey-springfield/testset/img4.jpg</td>\n",
       "      <td>20</td>\n",
       "    </tr>\n",
       "    <tr>\n",
       "      <th>...</th>\n",
       "      <td>...</td>\n",
       "      <td>...</td>\n",
       "      <td>...</td>\n",
       "      <td>...</td>\n",
       "    </tr>\n",
       "    <tr>\n",
       "      <th>986</th>\n",
       "      <td>img986.jpg</td>\n",
       "      <td>sideshow_bob</td>\n",
       "      <td>journey-springfield/testset/img986.jpg</td>\n",
       "      <td>37</td>\n",
       "    </tr>\n",
       "    <tr>\n",
       "      <th>987</th>\n",
       "      <td>img987.jpg</td>\n",
       "      <td>nelson_muntz</td>\n",
       "      <td>journey-springfield/testset/img987.jpg</td>\n",
       "      <td>29</td>\n",
       "    </tr>\n",
       "    <tr>\n",
       "      <th>988</th>\n",
       "      <td>img988.jpg</td>\n",
       "      <td>charles_montgomery_burns</td>\n",
       "      <td>journey-springfield/testset/img988.jpg</td>\n",
       "      <td>6</td>\n",
       "    </tr>\n",
       "    <tr>\n",
       "      <th>989</th>\n",
       "      <td>img989.jpg</td>\n",
       "      <td>charles_montgomery_burns</td>\n",
       "      <td>journey-springfield/testset/img989.jpg</td>\n",
       "      <td>6</td>\n",
       "    </tr>\n",
       "    <tr>\n",
       "      <th>990</th>\n",
       "      <td>img990.jpg</td>\n",
       "      <td>krusty_the_clown</td>\n",
       "      <td>journey-springfield/testset/img990.jpg</td>\n",
       "      <td>17</td>\n",
       "    </tr>\n",
       "  </tbody>\n",
       "</table>\n",
       "<p>991 rows × 4 columns</p>\n",
       "</div>"
      ],
      "text/plain": [
       "             Id                  Expected  \\\n",
       "0      img0.jpg              nelson_muntz   \n",
       "1      img1.jpg              bart_simpson   \n",
       "2      img2.jpg              mayor_quimby   \n",
       "3      img3.jpg              nelson_muntz   \n",
       "4      img4.jpg              lisa_simpson   \n",
       "..          ...                       ...   \n",
       "986  img986.jpg              sideshow_bob   \n",
       "987  img987.jpg              nelson_muntz   \n",
       "988  img988.jpg  charles_montgomery_burns   \n",
       "989  img989.jpg  charles_montgomery_burns   \n",
       "990  img990.jpg          krusty_the_clown   \n",
       "\n",
       "                                 image_name  predicted_class  \n",
       "0      journey-springfield/testset/img0.jpg               29  \n",
       "1      journey-springfield/testset/img1.jpg                4  \n",
       "2      journey-springfield/testset/img2.jpg               24  \n",
       "3      journey-springfield/testset/img3.jpg               29  \n",
       "4      journey-springfield/testset/img4.jpg               20  \n",
       "..                                      ...              ...  \n",
       "986  journey-springfield/testset/img986.jpg               37  \n",
       "987  journey-springfield/testset/img987.jpg               29  \n",
       "988  journey-springfield/testset/img988.jpg                6  \n",
       "989  journey-springfield/testset/img989.jpg                6  \n",
       "990  journey-springfield/testset/img990.jpg               17  \n",
       "\n",
       "[991 rows x 4 columns]"
      ]
     },
     "execution_count": 40,
     "metadata": {},
     "output_type": "execute_result"
    }
   ],
   "source": [
    "sample"
   ]
  },
  {
   "cell_type": "code",
   "execution_count": 41,
   "metadata": {},
   "outputs": [],
   "source": [
    "sample.drop(['image_name','predicted_class'],axis=1,inplace=True)"
   ]
  },
  {
   "cell_type": "code",
   "execution_count": 42,
   "metadata": {},
   "outputs": [
    {
     "data": {
      "application/vnd.microsoft.datawrangler.viewer.v0+json": {
       "columns": [
        {
         "name": "index",
         "rawType": "int64",
         "type": "integer"
        },
        {
         "name": "Id",
         "rawType": "object",
         "type": "string"
        },
        {
         "name": "Expected",
         "rawType": "object",
         "type": "string"
        }
       ],
       "conversionMethod": "pd.DataFrame",
       "ref": "9434ed2c-5e06-4cf3-a710-224942418329",
       "rows": [
        [
         "0",
         "img0.jpg",
         "nelson_muntz"
        ],
        [
         "1",
         "img1.jpg",
         "bart_simpson"
        ],
        [
         "2",
         "img2.jpg",
         "mayor_quimby"
        ],
        [
         "3",
         "img3.jpg",
         "nelson_muntz"
        ],
        [
         "4",
         "img4.jpg",
         "lisa_simpson"
        ],
        [
         "5",
         "img5.jpg",
         "principal_skinner"
        ],
        [
         "6",
         "img6.jpg",
         "krusty_the_clown"
        ],
        [
         "7",
         "img7.jpg",
         "apu_nahasapeemapetilon"
        ],
        [
         "8",
         "img8.jpg",
         "principal_skinner"
        ],
        [
         "9",
         "img9.jpg",
         "comic_book_guy"
        ],
        [
         "10",
         "img10.jpg",
         "ned_flanders"
        ],
        [
         "11",
         "img11.jpg",
         "ned_flanders"
        ],
        [
         "12",
         "img12.jpg",
         "homer_simpson"
        ],
        [
         "13",
         "img13.jpg",
         "abraham_grampa_simpson"
        ],
        [
         "14",
         "img14.jpg",
         "nelson_muntz"
        ],
        [
         "15",
         "img15.jpg",
         "charles_montgomery_burns"
        ],
        [
         "16",
         "img16.jpg",
         "mayor_quimby"
        ],
        [
         "17",
         "img17.jpg",
         "comic_book_guy"
        ],
        [
         "18",
         "img18.jpg",
         "homer_simpson"
        ],
        [
         "19",
         "img19.jpg",
         "milhouse_van_houten"
        ],
        [
         "20",
         "img20.jpg",
         "marge_simpson"
        ],
        [
         "21",
         "img21.jpg",
         "principal_skinner"
        ],
        [
         "22",
         "img22.jpg",
         "moe_szyslak"
        ],
        [
         "23",
         "img23.jpg",
         "chief_wiggum"
        ],
        [
         "24",
         "img24.jpg",
         "chief_wiggum"
        ],
        [
         "25",
         "img25.jpg",
         "apu_nahasapeemapetilon"
        ],
        [
         "26",
         "img26.jpg",
         "abraham_grampa_simpson"
        ],
        [
         "27",
         "img27.jpg",
         "edna_krabappel"
        ],
        [
         "28",
         "img28.jpg",
         "homer_simpson"
        ],
        [
         "29",
         "img29.jpg",
         "moe_szyslak"
        ],
        [
         "30",
         "img30.jpg",
         "krusty_the_clown"
        ],
        [
         "31",
         "img31.jpg",
         "comic_book_guy"
        ],
        [
         "32",
         "img32.jpg",
         "charles_montgomery_burns"
        ],
        [
         "33",
         "img33.jpg",
         "marge_simpson"
        ],
        [
         "34",
         "img34.jpg",
         "edna_krabappel"
        ],
        [
         "35",
         "img35.jpg",
         "sideshow_bob"
        ],
        [
         "36",
         "img36.jpg",
         "chief_wiggum"
        ],
        [
         "37",
         "img37.jpg",
         "moe_szyslak"
        ],
        [
         "38",
         "img38.jpg",
         "moe_szyslak"
        ],
        [
         "39",
         "img39.jpg",
         "moe_szyslak"
        ],
        [
         "40",
         "img40.jpg",
         "moe_szyslak"
        ],
        [
         "41",
         "img41.jpg",
         "nelson_muntz"
        ],
        [
         "42",
         "img42.jpg",
         "comic_book_guy"
        ],
        [
         "43",
         "img43.jpg",
         "mayor_quimby"
        ],
        [
         "44",
         "img44.jpg",
         "edna_krabappel"
        ],
        [
         "45",
         "img45.jpg",
         "edna_krabappel"
        ],
        [
         "46",
         "img46.jpg",
         "krusty_the_clown"
        ],
        [
         "47",
         "img47.jpg",
         "principal_skinner"
        ],
        [
         "48",
         "img48.jpg",
         "mayor_quimby"
        ],
        [
         "49",
         "img49.jpg",
         "milhouse_van_houten"
        ]
       ],
       "shape": {
        "columns": 2,
        "rows": 991
       }
      },
      "text/html": [
       "<div>\n",
       "<style scoped>\n",
       "    .dataframe tbody tr th:only-of-type {\n",
       "        vertical-align: middle;\n",
       "    }\n",
       "\n",
       "    .dataframe tbody tr th {\n",
       "        vertical-align: top;\n",
       "    }\n",
       "\n",
       "    .dataframe thead th {\n",
       "        text-align: right;\n",
       "    }\n",
       "</style>\n",
       "<table border=\"1\" class=\"dataframe\">\n",
       "  <thead>\n",
       "    <tr style=\"text-align: right;\">\n",
       "      <th></th>\n",
       "      <th>Id</th>\n",
       "      <th>Expected</th>\n",
       "    </tr>\n",
       "  </thead>\n",
       "  <tbody>\n",
       "    <tr>\n",
       "      <th>0</th>\n",
       "      <td>img0.jpg</td>\n",
       "      <td>nelson_muntz</td>\n",
       "    </tr>\n",
       "    <tr>\n",
       "      <th>1</th>\n",
       "      <td>img1.jpg</td>\n",
       "      <td>bart_simpson</td>\n",
       "    </tr>\n",
       "    <tr>\n",
       "      <th>2</th>\n",
       "      <td>img2.jpg</td>\n",
       "      <td>mayor_quimby</td>\n",
       "    </tr>\n",
       "    <tr>\n",
       "      <th>3</th>\n",
       "      <td>img3.jpg</td>\n",
       "      <td>nelson_muntz</td>\n",
       "    </tr>\n",
       "    <tr>\n",
       "      <th>4</th>\n",
       "      <td>img4.jpg</td>\n",
       "      <td>lisa_simpson</td>\n",
       "    </tr>\n",
       "    <tr>\n",
       "      <th>...</th>\n",
       "      <td>...</td>\n",
       "      <td>...</td>\n",
       "    </tr>\n",
       "    <tr>\n",
       "      <th>986</th>\n",
       "      <td>img986.jpg</td>\n",
       "      <td>sideshow_bob</td>\n",
       "    </tr>\n",
       "    <tr>\n",
       "      <th>987</th>\n",
       "      <td>img987.jpg</td>\n",
       "      <td>nelson_muntz</td>\n",
       "    </tr>\n",
       "    <tr>\n",
       "      <th>988</th>\n",
       "      <td>img988.jpg</td>\n",
       "      <td>charles_montgomery_burns</td>\n",
       "    </tr>\n",
       "    <tr>\n",
       "      <th>989</th>\n",
       "      <td>img989.jpg</td>\n",
       "      <td>charles_montgomery_burns</td>\n",
       "    </tr>\n",
       "    <tr>\n",
       "      <th>990</th>\n",
       "      <td>img990.jpg</td>\n",
       "      <td>krusty_the_clown</td>\n",
       "    </tr>\n",
       "  </tbody>\n",
       "</table>\n",
       "<p>991 rows × 2 columns</p>\n",
       "</div>"
      ],
      "text/plain": [
       "             Id                  Expected\n",
       "0      img0.jpg              nelson_muntz\n",
       "1      img1.jpg              bart_simpson\n",
       "2      img2.jpg              mayor_quimby\n",
       "3      img3.jpg              nelson_muntz\n",
       "4      img4.jpg              lisa_simpson\n",
       "..          ...                       ...\n",
       "986  img986.jpg              sideshow_bob\n",
       "987  img987.jpg              nelson_muntz\n",
       "988  img988.jpg  charles_montgomery_burns\n",
       "989  img989.jpg  charles_montgomery_burns\n",
       "990  img990.jpg          krusty_the_clown\n",
       "\n",
       "[991 rows x 2 columns]"
      ]
     },
     "execution_count": 42,
     "metadata": {},
     "output_type": "execute_result"
    }
   ],
   "source": [
    "sample"
   ]
  },
  {
   "cell_type": "code",
   "execution_count": 43,
   "metadata": {},
   "outputs": [],
   "source": [
    "sample.to_csv('otv.csv',index = False)"
   ]
  },
  {
   "cell_type": "code",
   "execution_count": null,
   "metadata": {},
   "outputs": [],
   "source": []
  }
 ],
 "metadata": {
  "kernelspec": {
   "display_name": "base",
   "language": "python",
   "name": "python3"
  },
  "language_info": {
   "codemirror_mode": {
    "name": "ipython",
    "version": 3
   },
   "file_extension": ".py",
   "mimetype": "text/x-python",
   "name": "python",
   "nbconvert_exporter": "python",
   "pygments_lexer": "ipython3",
   "version": "3.12.7"
  }
 },
 "nbformat": 4,
 "nbformat_minor": 2
}
