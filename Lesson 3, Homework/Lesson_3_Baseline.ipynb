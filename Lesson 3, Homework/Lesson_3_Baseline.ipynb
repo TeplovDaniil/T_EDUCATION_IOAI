{
  "metadata": {
    "kernelspec": {
      "language": "python",
      "display_name": "Python 3",
      "name": "python3"
    },
    "language_info": {
      "pygments_lexer": "ipython3",
      "nbconvert_exporter": "python",
      "version": "3.6.4",
      "file_extension": ".py",
      "codemirror_mode": {
        "name": "ipython",
        "version": 3
      },
      "name": "python",
      "mimetype": "text/x-python"
    },
    "kaggle": {
      "accelerator": "none",
      "dataSources": [],
      "isInternetEnabled": true,
      "language": "python",
      "sourceType": "notebook",
      "isGpuEnabled": false
    },
    "colab": {
      "name": "Lesson 3. Baseline",
      "provenance": []
    }
  },
  "nbformat_minor": 0,
  "nbformat": 4,
  "cells": [
    {
      "cell_type": "markdown",
      "source": [
        "**You should not change this cell.**"
      ],
      "metadata": {
        "_uuid": "8f2839f25d086af736a60e9eeb907d3b93b6e0e5",
        "_cell_guid": "b1076dfc-b9ad-4769-8c92-a6c4dae69d19",
        "id": "FfcdIh4FneKh"
      }
    },
    {
      "cell_type": "code",
      "source": [],
      "metadata": {
        "id": "8d1pNEMznegG"
      },
      "execution_count": null,
      "outputs": []
    },
    {
      "cell_type": "code",
      "source": [
        "import pandas as pd\n",
        "import numpy as np\n",
        "import catboost\n",
        "import pickle\n",
        "from sklearn.model_selection import KFold\n",
        "import gc\n",
        "\n",
        "train = pd.read_csv('/kaggle/input/ioai-2025-preparation-class-lesson-3-homework/train.csv')\n",
        "train = train.sample(frac = 1.0, random_state = 322).reset_index(drop = True)\n",
        "test = pd.read_csv('/kaggle/input/ioai-2025-preparation-class-lesson-3-homework/test.csv')\n",
        "sample_submission = pd.read_csv('/kaggle/input/ioai-2025-preparation-class-lesson-3-homework/sample_submission.csv')\n",
        "\n",
        "def lgb_train(train, target, split_list, param):\n",
        "\n",
        "    bst_list = []\n",
        "    for i , (train_index, test_index) in enumerate(split_list):\n",
        "\n",
        "        tr = catboost.Pool(train[train_index], label = target[train_index])\n",
        "        te = catboost.Pool(train[test_index], label = target[test_index])\n",
        "\n",
        "        bst = catboost.train(tr, param, eval_set = te, iterations = 4000, early_stopping_rounds = 300, verbose =300)\n",
        "        bst_list += [bst]\n",
        "\n",
        "        gc.collect()\n",
        "        del tr, te\n",
        "\n",
        "    return bst_list\n",
        "\n",
        "params_cat = {\n",
        "    'loss_function' :'MultiClass',\n",
        "    'task_type' : 'GPU',\n",
        "     'max_depth' : 4,\n",
        "    'eval_metric' :'MultiClass',\n",
        "    'learning_rate' : .1,\n",
        "    'border_count' :  127,\n",
        "    'random_state' : 42 ,\n",
        "}"
      ],
      "metadata": {
        "trusted": true,
        "id": "IGpXkknineKi"
      },
      "outputs": [],
      "execution_count": null
    },
    {
      "cell_type": "markdown",
      "source": [
        "**You can change the function \"standart_split\" as you want.**"
      ],
      "metadata": {
        "id": "ExsrPEplneKj"
      }
    },
    {
      "cell_type": "code",
      "source": [
        "def standart_split(data, target, n_splits = 5, seed = 322):\n",
        "    split_list = []\n",
        "    kf = KFold(n_splits = n_splits, shuffle = True, random_state = seed)\n",
        "    for train_index, val_index in kf.split(data) :\n",
        "        split_list += [(train_index, val_index)]\n",
        "    return split_list"
      ],
      "metadata": {
        "trusted": true,
        "id": "7qyu_U9WneKk"
      },
      "outputs": [],
      "execution_count": null
    },
    {
      "cell_type": "markdown",
      "source": [
        "**You can change the set of training columns as you want. To do this, you must add the columns at \"drop_cols\" list that you do not want to use in the training.**"
      ],
      "metadata": {
        "id": "ddPzct5HneKk"
      }
    },
    {
      "cell_type": "code",
      "source": [
        "drop_cols = ['session_id', 'time', 'target']\n",
        "train_cols = [x for x in train.columns if x not in drop_cols]\n",
        "print(len(train_cols))"
      ],
      "metadata": {
        "trusted": true,
        "id": "trdnqOSMneKk"
      },
      "outputs": [],
      "execution_count": null
    },
    {
      "cell_type": "markdown",
      "source": [
        "**If your GPU quota has ended, uncooment this line.**"
      ],
      "metadata": {
        "id": "zY0uD33gneKk"
      }
    },
    {
      "cell_type": "code",
      "source": [
        "# params_cat['task_type'] = 'CPU'"
      ],
      "metadata": {
        "trusted": true,
        "id": "9Y426RjTneKk"
      },
      "outputs": [],
      "execution_count": null
    },
    {
      "cell_type": "markdown",
      "source": [
        "**You should not change this cell. submission.csv generated from that cell you need to use for submit on leaderboard**"
      ],
      "metadata": {
        "id": "f9ZXePqWneKk"
      }
    },
    {
      "cell_type": "code",
      "source": [
        "split_list = standart_split(train, 'target')\n",
        "bst_list = lgb_train(train[train_cols].values, train['target'].values, split_list, params_cat)\n",
        "pred = []\n",
        "for bst in bst_list:\n",
        "    pred += [bst.predict(test[train_cols], prediction_type = 'Probability') ]\n",
        "sample_submission[sample_submission.columns[1:]] = np.mean(pred, 0)\n",
        "sample_submission.to_csv('submission.csv', index = None)"
      ],
      "metadata": {
        "trusted": true,
        "id": "Ev2WAQWKneKl"
      },
      "outputs": [],
      "execution_count": null
    }
  ]
}